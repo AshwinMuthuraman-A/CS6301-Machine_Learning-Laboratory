{
 "cells": [
  {
   "cell_type": "code",
   "execution_count": 12,
   "id": "e4ce046e",
   "metadata": {},
   "outputs": [],
   "source": [
    "import numpy as np\n",
    "import pandas as pd\n",
    "import matplotlib.pyplot as plt\n",
    "from MLP_util import *"
   ]
  },
  {
   "cell_type": "code",
   "execution_count": 13,
   "id": "cac75b0e",
   "metadata": {},
   "outputs": [
    {
     "name": "stdout",
     "output_type": "stream",
     "text": [
      "Size of train set input : (2, 4)\n",
      "Size of train set output : (1, 4)\n",
      "Size of test set input : (2, 1)\n",
      "Size of test set output : (1, 1)\n"
     ]
    }
   ],
   "source": [
    "train_set_x = np.array([[0, 0], [0, 1], [1, 0], [1, 1]])\n",
    "m_train = train_set_x.shape[0]\n",
    "train_set_x = (train_set_x.reshape(m_train,-1)).T\n",
    "train_set_y = np.array([0, 1, 1, 0])\n",
    "train_set_y = train_set_y.reshape((1, train_set_y.shape[0]))\n",
    "\n",
    "test_set_x = np.array([[0, 1]])\n",
    "m_test = test_set_x.shape[0]\n",
    "test_set_x = (test_set_x.reshape(m_test,-1)).T\n",
    "test_set_y = np.array([1])\n",
    "test_set_y = test_set_y.reshape((1, test_set_y.shape[0]))\n",
    "print(\"Size of train set input : \" + str(train_set_x.shape))\n",
    "print(\"Size of train set output : \" + str(train_set_y.shape))\n",
    "print(\"Size of test set input : \" + str(test_set_x.shape))\n",
    "print(\"Size of test set output : \" + str(test_set_y.shape))"
   ]
  },
  {
   "cell_type": "code",
   "execution_count": 14,
   "id": "8bf203dc",
   "metadata": {},
   "outputs": [],
   "source": [
    "layers_dims = [2, 5, 1]\n",
    "\n",
    "def L_layer_NN(X, Y, layers_dims, learningRate = 0.0075, num_itr = 2500, printCost = False):\n",
    "    np.random.seed(1)\n",
    "    grads = {}\n",
    "    costs = []\n",
    "    Afn = {}\n",
    "    dfn = {}\n",
    "    parameters = initialize_parameters_layers(layers_dims)\n",
    "    Afn[\"A1\"] = X\n",
    "    m = X.shape[1]\n",
    "    for i in range(0, num_itr):\n",
    "        # A1 is input layer\n",
    "        L = len(layers_dims)\n",
    "        for l in range(1, L-1):\n",
    "            Afn[\"A\"+str(l+1)] = linear_activation_fwd(Afn[\"A\"+str(l)], parameters[\"W\"+str(l)], parameters[\"b\"+str(l)], \"relu\")\n",
    "        Afn[\"A\"+str(L)] = linear_activation_fwd(Afn[\"A\"+str(L-1)], parameters[\"W\"+str(L-1)], parameters[\"b\"+str(L-1)], \"sigmoid\")\n",
    "        #print(str(Afn[\"A2\"]))\n",
    "        cost = compute_cost(Afn[\"A\"+str(L)], Y)\n",
    "        dfn[\"d\"+str(L)] = Afn[\"A\"+str(L)] - Y\n",
    "        for l in reversed(range(2, L)):\n",
    "            C = np.zeros(Afn[\"A\"+str(l)].shape)\n",
    "            Z = linear_fwd(Afn[\"A\"+str(l-1)], parameters[\"W\"+str(l-1)],  parameters[\"b\"+str(l-1)])\n",
    "            C = (Z>0) * 1.0\n",
    "            dfn[\"d\"+str(l)] = np.dot((parameters[\"W\"+str(l)]).T, dfn[\"d\"+str(l+1)]) * C\n",
    "        grads[\"db\"+str(L-1)] = (1./m) * (np.sum(dfn[\"d\"+str(L)]))\n",
    "        grads[\"dW\"+str(L-1)] = (1./m) * (np.dot(dfn[\"d\"+str(L)], Afn[\"A\"+str(L-1)].T))\n",
    "        for l in range(1, L-1):\n",
    "            grads[\"dW\"+str(l)] = (1./m) * (np.dot(dfn[\"d\"+str(l+1)], Afn[\"A\"+str(l)].T))\n",
    "            grads[\"db\"+str(l)] = (1./m) * (np.sum(dfn[\"d\"+str(l+1)], axis = 1, keepdims = True))\n",
    "        parameters = update_parameters(parameters, grads, learningRate)\n",
    "        #print(str(b1))\n",
    "        if printCost and i % 100 == 0:\n",
    "            print(\"Cost after iteration {}: {}\".format(i, np.squeeze(cost)))\n",
    "        if printCost and i % 100 == 0:\n",
    "            costs.append(cost)\n",
    "            \n",
    "    plt.plot(np.squeeze(costs))\n",
    "    plt.ylabel('cost')\n",
    "    plt.xlabel('iterations (per hundreds)')\n",
    "    plt.title(\"Learning rate =\" + str(learningRate))\n",
    "    plt.show()\n",
    "    \n",
    "    return parameters"
   ]
  },
  {
   "cell_type": "code",
   "execution_count": 15,
   "id": "9723e74b",
   "metadata": {},
   "outputs": [
    {
     "name": "stdout",
     "output_type": "stream",
     "text": [
      "Cost after iteration 0: 0.6833945492093881\n",
      "Cost after iteration 100: 0.5539767824163431\n",
      "Cost after iteration 200: 0.4529797495265252\n",
      "Cost after iteration 300: 0.3681086082308676\n",
      "Cost after iteration 400: 0.2880419267836909\n",
      "Cost after iteration 500: 0.21809485247829105\n",
      "Cost after iteration 600: 0.16449823669870517\n",
      "Cost after iteration 700: 0.12623923924615937\n",
      "Cost after iteration 800: 0.0998986048349291\n",
      "Cost after iteration 900: 0.08101556314171277\n",
      "Cost after iteration 1000: 0.0675824515021186\n",
      "Cost after iteration 1100: 0.057281363586434327\n",
      "Cost after iteration 1200: 0.04963589904822781\n",
      "Cost after iteration 1300: 0.04340501960517096\n",
      "Cost after iteration 1400: 0.03857049900754912\n"
     ]
    },
    {
     "data": {
      "image/png": "[encoded data removed]",
      "text/plain": [
       "<Figure size 640x480 with 1 Axes>"
      ]
     },
     "metadata": {},
     "output_type": "display_data"
    }
   ],
   "source": [
    "parameters = L_layer_NN(train_set_x, train_set_y, layers_dims, learningRate = 0.075, num_itr = 1500, printCost = True)"
   ]
  },
  {
   "cell_type": "code",
   "execution_count": 11,
   "id": "0a19a339",
   "metadata": {},
   "outputs": [
    {
     "name": "stdout",
     "output_type": "stream",
     "text": [
      "***Training Set***\n",
      "Accuracy : 1.0\n",
      "***Test Set***\n",
      "Accuracy : 1.0\n"
     ]
    }
   ],
   "source": [
    "print(\"***Training Set***\")\n",
    "pred = predict(train_set_x, train_set_y, parameters, layers_dims)\n",
    "print(\"***Test Set***\")\n",
    "pred = predict(test_set_x, test_set_y, parameters, layers_dims)"
   ]
  },
  {
   "cell_type": "code",
   "execution_count": 16,
   "id": "9fe5ef07",
   "metadata": {},
   "outputs": [
    {
     "data": {
      "text/html": [
       "<div>\n",
       "<style scoped>\n",
       "    .dataframe tbody tr th:only-of-type {\n",
       "        vertical-align: middle;\n",
       "    }\n",
       "\n",
       "    .dataframe tbody tr th {\n",
       "        vertical-align: top;\n",
       "    }\n",
       "\n",
       "    .dataframe thead th {\n",
       "        text-align: right;\n",
       "    }\n",
       "</style>\n",
       "<table border=\"1\" class=\"dataframe\">\n",
       "  <thead>\n",
       "    <tr style=\"text-align: right;\">\n",
       "      <th>Predicted</th>\n",
       "      <th>1.0</th>\n",
       "    </tr>\n",
       "    <tr>\n",
       "      <th>Actual</th>\n",
       "      <th></th>\n",
       "    </tr>\n",
       "  </thead>\n",
       "  <tbody>\n",
       "    <tr>\n",
       "      <th>1</th>\n",
       "      <td>1</td>\n",
       "    </tr>\n",
       "  </tbody>\n",
       "</table>\n",
       "</div>"
      ],
      "text/plain": [
       "Predicted  1.0\n",
       "Actual        \n",
       "1            1"
      ]
     },
     "execution_count": 16,
     "metadata": {},
     "output_type": "execute_result"
    }
   ],
   "source": [
    "y_actu = pd.Series(test_set_y[0], name='Actual')\n",
    "y_pred = pd.Series(pred[0], name='Predicted')\n",
    "df_confusion = pd.crosstab(y_actu, y_pred)\n",
    "df_confusion"
   ]
  }
 ],
 "metadata": {
  "kernelspec": {
   "display_name": "Python 3 (ipykernel)",
   "language": "python",
   "name": "python3"
  },
  "language_info": {
   "codemirror_mode": {
    "name": "ipython",
    "version": 3
   },
   "file_extension": ".py",
   "mimetype": "text/x-python",
   "name": "python",
   "nbconvert_exporter": "python",
   "pygments_lexer": "ipython3",
   "version": "3.9.13"
  }
 },
 "nbformat": 4,
 "nbformat_minor": 5
}
