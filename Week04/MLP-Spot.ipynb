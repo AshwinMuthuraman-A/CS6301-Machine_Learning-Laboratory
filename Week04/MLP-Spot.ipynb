{
 "cells": [
  {
   "cell_type": "code",
   "execution_count": 1,
   "id": "e4ce046e",
   "metadata": {},
   "outputs": [],
   "source": [
    "import numpy as np\n",
    "import pandas as pd\n",
    "import matplotlib.pyplot as plt\n",
    "from MLP_util import *"
   ]
  },
  {
   "cell_type": "code",
   "execution_count": 10,
   "id": "cac75b0e",
   "metadata": {},
   "outputs": [
    {
     "name": "stdout",
     "output_type": "stream",
     "text": [
      "Size of train set input : (2, 168)\n",
      "Size of train set output : (1, 168)\n",
      "Size of test set input : (2, 72)\n",
      "Size of test set output : (1, 72)\n"
     ]
    }
   ],
   "source": [
    "from sklearn.model_selection import train_test_split\n",
    "from sklearn import preprocessing\n",
    "\n",
    "dataset = pd.read_csv('citation.csv')\n",
    "dataset = dataset.dropna()\n",
    "\n",
    "X = dataset.values[:, 0:2]\n",
    "Y = dataset.values[:, 2]\n",
    "\n",
    "min_max_scaler = preprocessing.MinMaxScaler()\n",
    "X_scale = min_max_scaler.fit_transform(X)\n",
    "\n",
    "X_train, X_test, Y_train, Y_test = train_test_split(X_scale, Y, test_size=0.3)\n",
    "train_set_x = X_train.T\n",
    "train_set_y = Y_train.T\n",
    "test_set_x = X_test.T\n",
    "test_set_y = Y_test.T\n",
    "train_set_y = train_set_y.reshape((1, train_set_y.shape[0]))\n",
    "test_set_y = test_set_y.reshape((1, test_set_y.shape[0]))\n",
    "\n",
    "print(\"Size of train set input : \" + str(train_set_x.shape))\n",
    "print(\"Size of train set output : \" + str(train_set_y.shape))\n",
    "print(\"Size of test set input : \" + str(test_set_x.shape))\n",
    "print(\"Size of test set output : \" + str(test_set_y.shape))"
   ]
  },
  {
   "cell_type": "code",
   "execution_count": 11,
   "id": "c9e82f52",
   "metadata": {},
   "outputs": [
    {
     "data": {
      "text/html": [
       "<div>\n",
       "<style scoped>\n",
       "    .dataframe tbody tr th:only-of-type {\n",
       "        vertical-align: middle;\n",
       "    }\n",
       "\n",
       "    .dataframe tbody tr th {\n",
       "        vertical-align: top;\n",
       "    }\n",
       "\n",
       "    .dataframe thead th {\n",
       "        text-align: right;\n",
       "    }\n",
       "</style>\n",
       "<table border=\"1\" class=\"dataframe\">\n",
       "  <thead>\n",
       "    <tr style=\"text-align: right;\">\n",
       "      <th></th>\n",
       "      <th>paper_id</th>\n",
       "      <th>cited</th>\n",
       "      <th>isGraph</th>\n",
       "    </tr>\n",
       "  </thead>\n",
       "  <tbody>\n",
       "    <tr>\n",
       "      <th>0</th>\n",
       "      <td>1</td>\n",
       "      <td>2</td>\n",
       "      <td>0</td>\n",
       "    </tr>\n",
       "    <tr>\n",
       "      <th>1</th>\n",
       "      <td>2</td>\n",
       "      <td>20</td>\n",
       "      <td>1</td>\n",
       "    </tr>\n",
       "    <tr>\n",
       "      <th>2</th>\n",
       "      <td>3</td>\n",
       "      <td>14</td>\n",
       "      <td>1</td>\n",
       "    </tr>\n",
       "    <tr>\n",
       "      <th>3</th>\n",
       "      <td>4</td>\n",
       "      <td>20</td>\n",
       "      <td>1</td>\n",
       "    </tr>\n",
       "    <tr>\n",
       "      <th>4</th>\n",
       "      <td>5</td>\n",
       "      <td>15</td>\n",
       "      <td>0</td>\n",
       "    </tr>\n",
       "    <tr>\n",
       "      <th>...</th>\n",
       "      <td>...</td>\n",
       "      <td>...</td>\n",
       "      <td>...</td>\n",
       "    </tr>\n",
       "    <tr>\n",
       "      <th>235</th>\n",
       "      <td>236</td>\n",
       "      <td>14</td>\n",
       "      <td>0</td>\n",
       "    </tr>\n",
       "    <tr>\n",
       "      <th>236</th>\n",
       "      <td>237</td>\n",
       "      <td>4</td>\n",
       "      <td>0</td>\n",
       "    </tr>\n",
       "    <tr>\n",
       "      <th>237</th>\n",
       "      <td>238</td>\n",
       "      <td>2</td>\n",
       "      <td>1</td>\n",
       "    </tr>\n",
       "    <tr>\n",
       "      <th>238</th>\n",
       "      <td>239</td>\n",
       "      <td>15</td>\n",
       "      <td>0</td>\n",
       "    </tr>\n",
       "    <tr>\n",
       "      <th>239</th>\n",
       "      <td>240</td>\n",
       "      <td>3</td>\n",
       "      <td>1</td>\n",
       "    </tr>\n",
       "  </tbody>\n",
       "</table>\n",
       "<p>240 rows × 3 columns</p>\n",
       "</div>"
      ],
      "text/plain": [
       "     paper_id  cited  isGraph\n",
       "0           1      2        0\n",
       "1           2     20        1\n",
       "2           3     14        1\n",
       "3           4     20        1\n",
       "4           5     15        0\n",
       "..        ...    ...      ...\n",
       "235       236     14        0\n",
       "236       237      4        0\n",
       "237       238      2        1\n",
       "238       239     15        0\n",
       "239       240      3        1\n",
       "\n",
       "[240 rows x 3 columns]"
      ]
     },
     "execution_count": 11,
     "metadata": {},
     "output_type": "execute_result"
    }
   ],
   "source": [
    "dataset"
   ]
  },
  {
   "cell_type": "code",
   "execution_count": 12,
   "id": "8bf203dc",
   "metadata": {},
   "outputs": [],
   "source": [
    "layers_dims = [2, 20, 35, 20, 1]\n",
    "\n",
    "def L_layer_NN(X, Y, layers_dims, learningRate = 0.0075, num_itr = 2500, printCost = False):\n",
    "    np.random.seed(1)\n",
    "    grads = {}\n",
    "    costs = []\n",
    "    Afn = {}\n",
    "    dfn = {}\n",
    "    parameters = initialize_parameters_layers(layers_dims)\n",
    "    Afn[\"A1\"] = X\n",
    "    m = X.shape[1]\n",
    "    for i in range(0, num_itr):\n",
    "        # A1 is input layer\n",
    "        L = len(layers_dims)\n",
    "        for l in range(1, L-1):\n",
    "            Afn[\"A\"+str(l+1)] = linear_activation_fwd(Afn[\"A\"+str(l)], parameters[\"W\"+str(l)], parameters[\"b\"+str(l)], \"relu\")\n",
    "        Afn[\"A\"+str(L)] = linear_activation_fwd(Afn[\"A\"+str(L-1)], parameters[\"W\"+str(L-1)], parameters[\"b\"+str(L-1)], \"sigmoid\")\n",
    "        #print(str(Afn[\"A2\"]))\n",
    "        cost = compute_cost(Afn[\"A\"+str(L)], Y)\n",
    "        dfn[\"d\"+str(L)] = Afn[\"A\"+str(L)] - Y\n",
    "        for l in reversed(range(2, L)):\n",
    "            C = np.zeros(Afn[\"A\"+str(l)].shape)\n",
    "            Z = linear_fwd(Afn[\"A\"+str(l-1)], parameters[\"W\"+str(l-1)],  parameters[\"b\"+str(l-1)])\n",
    "            C = (Z>0) * 1.0\n",
    "            dfn[\"d\"+str(l)] = np.dot((parameters[\"W\"+str(l)]).T, dfn[\"d\"+str(l+1)]) * C\n",
    "        grads[\"db\"+str(L-1)] = (1./m) * (np.sum(dfn[\"d\"+str(L)]))\n",
    "        grads[\"dW\"+str(L-1)] = (1./m) * (np.dot(dfn[\"d\"+str(L)], Afn[\"A\"+str(L-1)].T))\n",
    "        for l in range(1, L-1):\n",
    "            grads[\"dW\"+str(l)] = (1./m) * (np.dot(dfn[\"d\"+str(l+1)], Afn[\"A\"+str(l)].T))\n",
    "            grads[\"db\"+str(l)] = (1./m) * (np.sum(dfn[\"d\"+str(l+1)], axis = 1, keepdims = True))\n",
    "        parameters = update_parameters(parameters, grads, learningRate)\n",
    "        #print(str(b1))\n",
    "        if printCost and i % 100 == 0:\n",
    "            print(\"Cost after iteration {}: {}\".format(i, np.squeeze(cost)))\n",
    "        if printCost and i % 100 == 0:\n",
    "            costs.append(cost)\n",
    "            \n",
    "    plt.plot(np.squeeze(costs))\n",
    "    plt.ylabel('cost')\n",
    "    plt.xlabel('iterations (per hundreds)')\n",
    "    plt.title(\"Learning rate =\" + str(learningRate))\n",
    "    plt.show()\n",
    "    \n",
    "    return parameters"
   ]
  },
  {
   "cell_type": "code",
   "execution_count": 27,
   "id": "9723e74b",
   "metadata": {},
   "outputs": [
    {
     "name": "stdout",
     "output_type": "stream",
     "text": [
      "Cost after iteration 0: 0.7224449548257631\n",
      "Cost after iteration 100: 0.6656034511488023\n",
      "Cost after iteration 200: 0.6614847984540873\n",
      "Cost after iteration 300: 0.6577513751610355\n",
      "Cost after iteration 400: 0.6543999552991884\n",
      "Cost after iteration 500: 0.6516576540349011\n",
      "Cost after iteration 600: 0.6498129788737327\n",
      "Cost after iteration 700: 0.6484556009018385\n",
      "Cost after iteration 800: 0.6474124093687429\n",
      "Cost after iteration 900: 0.6465704342739285\n",
      "Cost after iteration 1000: 0.6457318615371243\n",
      "Cost after iteration 1100: 0.6446986210665536\n",
      "Cost after iteration 1200: 0.6438321247768328\n",
      "Cost after iteration 1300: 0.6429562417987724\n",
      "Cost after iteration 1400: 0.6419909606814773\n",
      "Cost after iteration 1500: 0.6409419818017488\n",
      "Cost after iteration 1600: 0.6398093313352718\n",
      "Cost after iteration 1700: 0.6385777779226464\n",
      "Cost after iteration 1800: 0.6372032888393048\n",
      "Cost after iteration 1900: 0.6356349250469866\n",
      "Cost after iteration 2000: 0.633921747712961\n",
      "Cost after iteration 2100: 0.6320355246269361\n",
      "Cost after iteration 2200: 0.6300269349953905\n",
      "Cost after iteration 2300: 0.6278987590010359\n",
      "Cost after iteration 2400: 0.6256577185301363\n",
      "Cost after iteration 2500: 0.6233473415421275\n",
      "Cost after iteration 2600: 0.6210049147346753\n",
      "Cost after iteration 2700: 0.6185875232116763\n",
      "Cost after iteration 2800: 0.6160311358895969\n",
      "Cost after iteration 2900: 0.6133988947154263\n"
     ]
    },
    {
     "data": {
      "image/png": "[encoded data removed]",
      "text/plain": [
       "<Figure size 640x480 with 1 Axes>"
      ]
     },
     "metadata": {},
     "output_type": "display_data"
    }
   ],
   "source": [
    "parameters = L_layer_NN(train_set_x, train_set_y, layers_dims, learningRate = 0.06, num_itr = 3000, printCost = True)"
   ]
  },
  {
   "cell_type": "code",
   "execution_count": 26,
   "id": "0a19a339",
   "metadata": {},
   "outputs": [
    {
     "name": "stdout",
     "output_type": "stream",
     "text": [
      "***Training Set***\n",
      "Accuracy : 0.601190476190476\n",
      "***Test Set***\n",
      "Accuracy : 0.5416666666666667\n"
     ]
    }
   ],
   "source": [
    "print(\"***Training Set***\")\n",
    "pred = predict(train_set_x, train_set_y, parameters, layers_dims)\n",
    "print(\"***Test Set***\")\n",
    "pred = predict(test_set_x, test_set_y, parameters, layers_dims)"
   ]
  },
  {
   "cell_type": "code",
   "execution_count": 24,
   "id": "c8437888",
   "metadata": {},
   "outputs": [
    {
     "name": "stdout",
     "output_type": "stream",
     "text": [
      "\n",
      "\n",
      " Input:  [0.41841004 0.15789474]\n",
      "\n",
      "\n",
      " Target:  0\n",
      "\n",
      "\n",
      " Prediction:  0\n"
     ]
    }
   ],
   "source": [
    "pred = pred.astype(int)\n",
    "print(\"\\n\\n Input: \", test_set_x[:, 0])\n",
    "print(\"\\n\\n Target: \", test_set_y[0][0])\n",
    "print(\"\\n\\n Prediction: \", pred[0][0])"
   ]
  },
  {
   "cell_type": "code",
   "execution_count": 17,
   "id": "59c42d26",
   "metadata": {},
   "outputs": [
    {
     "data": {
      "text/html": [
       "<div>\n",
       "<style scoped>\n",
       "    .dataframe tbody tr th:only-of-type {\n",
       "        vertical-align: middle;\n",
       "    }\n",
       "\n",
       "    .dataframe tbody tr th {\n",
       "        vertical-align: top;\n",
       "    }\n",
       "\n",
       "    .dataframe thead th {\n",
       "        text-align: right;\n",
       "    }\n",
       "</style>\n",
       "<table border=\"1\" class=\"dataframe\">\n",
       "  <thead>\n",
       "    <tr style=\"text-align: right;\">\n",
       "      <th>Predicted</th>\n",
       "      <th>0</th>\n",
       "      <th>1</th>\n",
       "    </tr>\n",
       "    <tr>\n",
       "      <th>Actual</th>\n",
       "      <th></th>\n",
       "      <th></th>\n",
       "    </tr>\n",
       "  </thead>\n",
       "  <tbody>\n",
       "    <tr>\n",
       "      <th>0</th>\n",
       "      <td>37</td>\n",
       "      <td>12</td>\n",
       "    </tr>\n",
       "    <tr>\n",
       "      <th>1</th>\n",
       "      <td>19</td>\n",
       "      <td>4</td>\n",
       "    </tr>\n",
       "  </tbody>\n",
       "</table>\n",
       "</div>"
      ],
      "text/plain": [
       "Predicted   0   1\n",
       "Actual           \n",
       "0          37  12\n",
       "1          19   4"
      ]
     },
     "execution_count": 17,
     "metadata": {},
     "output_type": "execute_result"
    }
   ],
   "source": [
    "y_actu = pd.Series(test_set_y[0], name='Actual')\n",
    "y_pred = pd.Series(pred[0], name='Predicted')\n",
    "df_confusion = pd.crosstab(y_actu, y_pred)\n",
    "df_confusion"
   ]
  }
 ],
 "metadata": {
  "kernelspec": {
   "display_name": "Python 3 (ipykernel)",
   "language": "python",
   "name": "python3"
  },
  "language_info": {
   "codemirror_mode": {
    "name": "ipython",
    "version": 3
   },
   "file_extension": ".py",
   "mimetype": "text/x-python",
   "name": "python",
   "nbconvert_exporter": "python",
   "pygments_lexer": "ipython3",
   "version": "3.9.13"
  }
 },
 "nbformat": 4,
 "nbformat_minor": 5
}
