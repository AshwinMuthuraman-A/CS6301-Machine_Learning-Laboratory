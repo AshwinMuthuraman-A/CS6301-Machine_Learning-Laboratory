{
 "cells": [
  {
   "cell_type": "code",
   "execution_count": 1,
   "id": "43238bec",
   "metadata": {},
   "outputs": [],
   "source": [
    "import numpy as np\n",
    "import pandas as pd"
   ]
  },
  {
   "cell_type": "code",
   "execution_count": 2,
   "id": "3e6cefd0",
   "metadata": {},
   "outputs": [],
   "source": [
    "def sigmoid(z):\n",
    "    s = 1/(1+(np.exp(-z)))\n",
    "    return s"
   ]
  },
  {
   "cell_type": "code",
   "execution_count": 3,
   "id": "f8aa46d0",
   "metadata": {},
   "outputs": [],
   "source": [
    "def initialize_with_zeros(dim):\n",
    "    #initialize theta and bias to 0s\n",
    "    w = np.zeros((dim, 1))\n",
    "    b = 0\n",
    "    return w, b"
   ]
  },
  {
   "cell_type": "code",
   "execution_count": 4,
   "id": "328c1c5e",
   "metadata": {},
   "outputs": [],
   "source": [
    "def propagate(w, b, X, Y):\n",
    "    m = X.shape[1]\n",
    "    A = sigmoid(np.dot(w.T,X)+b)\n",
    "    #cost = (np.sum( (-np.log(A)*Y) + ((-np.log(1-A))*(1-Y)) ))/m\n",
    "    cost = (-1/m) * ((np.dot(Y, ((np.log(A)).T))) + (np.dot((1-Y), ((np.log(1-A)).T))))\n",
    "    dw = (1/m) * (np.dot(X, (A-Y).T))\n",
    "    db = (1/m)* (np.sum(A-Y))\n",
    "  \n",
    "    grads = {\"dw\": dw,\n",
    "             \"db\": db}\n",
    "    cost = np.squeeze(cost)\n",
    "    return grads, cost"
   ]
  },
  {
   "cell_type": "code",
   "execution_count": 5,
   "id": "26884d6e",
   "metadata": {},
   "outputs": [],
   "source": [
    "def optimize(w, b, X, Y, num_itr, learningRate, print_cost = False):\n",
    "    costs = []\n",
    "    for i in range(num_itr):\n",
    "        grads, cost = propagate(w, b, X, Y)\n",
    "        dw = grads[\"dw\"]\n",
    "        db = grads[\"db\"]\n",
    "        w = w-(learningRate*dw)\n",
    "        b = b-(learningRate*db)\n",
    "        if i%100 == 0:\n",
    "            costs.append(cost)\n",
    "        if print_cost and i % 100 == 0:\n",
    "            print (\"Cost after iteration %i: (%f %f %f)\" %(i, cost, db, b))\n",
    "    \n",
    "    params = {\"w\": w,\n",
    "              \"b\": b}\n",
    "    \n",
    "    grads = {\"dw\": dw,\n",
    "             \"db\": db}\n",
    "    \n",
    "    return params, grads, costs"
   ]
  },
  {
   "cell_type": "code",
   "execution_count": 6,
   "id": "d467313e",
   "metadata": {},
   "outputs": [],
   "source": [
    "def predict(w, b, X):    \n",
    "    m = X.shape[1]\n",
    "    Y_prediction = np.zeros((1, m))\n",
    "    w = w.reshape(X.shape[0], 1)\n",
    "    A = sigmoid(np.dot(w.T, X) + b)    \n",
    "    for i in range(A.shape[1]):\n",
    "        if A[0, i] > 0.5:\n",
    "            Y_prediction[0, i] = 1 \n",
    "        else:\n",
    "            Y_prediction[0, i] = 0\n",
    "        \n",
    "    assert(Y_prediction.shape == (1, m))\n",
    "    \n",
    "    return Y_prediction"
   ]
  },
  {
   "cell_type": "code",
   "execution_count": 7,
   "id": "b2df45eb",
   "metadata": {},
   "outputs": [],
   "source": [
    "def model(X_train, Y_train, X_test, Y_test, num_itr = 2000, learningRate = 0.5, print_cost = False):\n",
    "    w, b = initialize_with_zeros(X_train.shape[0])\n",
    "    parameters, grads, costs = optimize(w, b, X_train, Y_train, num_itr, learningRate, print_cost)\n",
    "    w = parameters[\"w\"]\n",
    "    b = parameters[\"b\"]\n",
    "    Y_prediction_test = predict(w, b, X_test)\n",
    "    Y_prediction_train = predict(w, b, X_train)\n",
    "    print(\"train accuracy: {} %\".format(100 - np.mean(np.abs(Y_prediction_train - Y_train)) * 100))\n",
    "    print(\"test accuracy: {} %\".format(100 - np.mean(np.abs(Y_prediction_test - Y_test)) * 100))\n",
    "    d = {\"costs\": costs,\n",
    "         \"Y_prediction_test\": Y_prediction_test, \n",
    "         \"Y_prediction_train\" : Y_prediction_train, \n",
    "         \"w\" : w, \n",
    "         \"b\" : b,\n",
    "         \"learning_rate\" : learningRate,\n",
    "         \"num_iterations\": num_itr}\n",
    "    \n",
    "    return d"
   ]
  },
  {
   "cell_type": "markdown",
   "id": "346f7b8c",
   "metadata": {},
   "source": [
    "For House Price Dataset"
   ]
  },
  {
   "cell_type": "code",
   "execution_count": 8,
   "id": "e4e74709",
   "metadata": {},
   "outputs": [],
   "source": [
    "from sklearn.model_selection import train_test_split\n",
    "\n",
    "dataset = pd.read_csv('housepricedata.csv')"
   ]
  },
  {
   "cell_type": "code",
   "execution_count": 9,
   "id": "ff57867b",
   "metadata": {},
   "outputs": [
    {
     "data": {
      "text/html": [
       "<div>\n",
       "<style scoped>\n",
       "    .dataframe tbody tr th:only-of-type {\n",
       "        vertical-align: middle;\n",
       "    }\n",
       "\n",
       "    .dataframe tbody tr th {\n",
       "        vertical-align: top;\n",
       "    }\n",
       "\n",
       "    .dataframe thead th {\n",
       "        text-align: right;\n",
       "    }\n",
       "</style>\n",
       "<table border=\"1\" class=\"dataframe\">\n",
       "  <thead>\n",
       "    <tr style=\"text-align: right;\">\n",
       "      <th></th>\n",
       "      <th>LotArea</th>\n",
       "      <th>OverallQual</th>\n",
       "      <th>OverallCond</th>\n",
       "      <th>TotalBsmtSF</th>\n",
       "      <th>FullBath</th>\n",
       "      <th>HalfBath</th>\n",
       "      <th>BedroomAbvGr</th>\n",
       "      <th>TotRmsAbvGrd</th>\n",
       "      <th>Fireplaces</th>\n",
       "      <th>GarageArea</th>\n",
       "      <th>AboveMedianPrice</th>\n",
       "    </tr>\n",
       "  </thead>\n",
       "  <tbody>\n",
       "    <tr>\n",
       "      <th>0</th>\n",
       "      <td>8450</td>\n",
       "      <td>7</td>\n",
       "      <td>5</td>\n",
       "      <td>856</td>\n",
       "      <td>2</td>\n",
       "      <td>1</td>\n",
       "      <td>3</td>\n",
       "      <td>8</td>\n",
       "      <td>0</td>\n",
       "      <td>548</td>\n",
       "      <td>1</td>\n",
       "    </tr>\n",
       "    <tr>\n",
       "      <th>1</th>\n",
       "      <td>9600</td>\n",
       "      <td>6</td>\n",
       "      <td>8</td>\n",
       "      <td>1262</td>\n",
       "      <td>2</td>\n",
       "      <td>0</td>\n",
       "      <td>3</td>\n",
       "      <td>6</td>\n",
       "      <td>1</td>\n",
       "      <td>460</td>\n",
       "      <td>1</td>\n",
       "    </tr>\n",
       "    <tr>\n",
       "      <th>2</th>\n",
       "      <td>11250</td>\n",
       "      <td>7</td>\n",
       "      <td>5</td>\n",
       "      <td>920</td>\n",
       "      <td>2</td>\n",
       "      <td>1</td>\n",
       "      <td>3</td>\n",
       "      <td>6</td>\n",
       "      <td>1</td>\n",
       "      <td>608</td>\n",
       "      <td>1</td>\n",
       "    </tr>\n",
       "    <tr>\n",
       "      <th>3</th>\n",
       "      <td>9550</td>\n",
       "      <td>7</td>\n",
       "      <td>5</td>\n",
       "      <td>756</td>\n",
       "      <td>1</td>\n",
       "      <td>0</td>\n",
       "      <td>3</td>\n",
       "      <td>7</td>\n",
       "      <td>1</td>\n",
       "      <td>642</td>\n",
       "      <td>0</td>\n",
       "    </tr>\n",
       "    <tr>\n",
       "      <th>4</th>\n",
       "      <td>14260</td>\n",
       "      <td>8</td>\n",
       "      <td>5</td>\n",
       "      <td>1145</td>\n",
       "      <td>2</td>\n",
       "      <td>1</td>\n",
       "      <td>4</td>\n",
       "      <td>9</td>\n",
       "      <td>1</td>\n",
       "      <td>836</td>\n",
       "      <td>1</td>\n",
       "    </tr>\n",
       "    <tr>\n",
       "      <th>...</th>\n",
       "      <td>...</td>\n",
       "      <td>...</td>\n",
       "      <td>...</td>\n",
       "      <td>...</td>\n",
       "      <td>...</td>\n",
       "      <td>...</td>\n",
       "      <td>...</td>\n",
       "      <td>...</td>\n",
       "      <td>...</td>\n",
       "      <td>...</td>\n",
       "      <td>...</td>\n",
       "    </tr>\n",
       "    <tr>\n",
       "      <th>1455</th>\n",
       "      <td>7917</td>\n",
       "      <td>6</td>\n",
       "      <td>5</td>\n",
       "      <td>953</td>\n",
       "      <td>2</td>\n",
       "      <td>1</td>\n",
       "      <td>3</td>\n",
       "      <td>7</td>\n",
       "      <td>1</td>\n",
       "      <td>460</td>\n",
       "      <td>1</td>\n",
       "    </tr>\n",
       "    <tr>\n",
       "      <th>1456</th>\n",
       "      <td>13175</td>\n",
       "      <td>6</td>\n",
       "      <td>6</td>\n",
       "      <td>1542</td>\n",
       "      <td>2</td>\n",
       "      <td>0</td>\n",
       "      <td>3</td>\n",
       "      <td>7</td>\n",
       "      <td>2</td>\n",
       "      <td>500</td>\n",
       "      <td>1</td>\n",
       "    </tr>\n",
       "    <tr>\n",
       "      <th>1457</th>\n",
       "      <td>9042</td>\n",
       "      <td>7</td>\n",
       "      <td>9</td>\n",
       "      <td>1152</td>\n",
       "      <td>2</td>\n",
       "      <td>0</td>\n",
       "      <td>4</td>\n",
       "      <td>9</td>\n",
       "      <td>2</td>\n",
       "      <td>252</td>\n",
       "      <td>1</td>\n",
       "    </tr>\n",
       "    <tr>\n",
       "      <th>1458</th>\n",
       "      <td>9717</td>\n",
       "      <td>5</td>\n",
       "      <td>6</td>\n",
       "      <td>1078</td>\n",
       "      <td>1</td>\n",
       "      <td>0</td>\n",
       "      <td>2</td>\n",
       "      <td>5</td>\n",
       "      <td>0</td>\n",
       "      <td>240</td>\n",
       "      <td>0</td>\n",
       "    </tr>\n",
       "    <tr>\n",
       "      <th>1459</th>\n",
       "      <td>9937</td>\n",
       "      <td>5</td>\n",
       "      <td>6</td>\n",
       "      <td>1256</td>\n",
       "      <td>1</td>\n",
       "      <td>1</td>\n",
       "      <td>3</td>\n",
       "      <td>6</td>\n",
       "      <td>0</td>\n",
       "      <td>276</td>\n",
       "      <td>0</td>\n",
       "    </tr>\n",
       "  </tbody>\n",
       "</table>\n",
       "<p>1460 rows × 11 columns</p>\n",
       "</div>"
      ],
      "text/plain": [
       "      LotArea  OverallQual  OverallCond  TotalBsmtSF  FullBath  HalfBath  \\\n",
       "0        8450            7            5          856         2         1   \n",
       "1        9600            6            8         1262         2         0   \n",
       "2       11250            7            5          920         2         1   \n",
       "3        9550            7            5          756         1         0   \n",
       "4       14260            8            5         1145         2         1   \n",
       "...       ...          ...          ...          ...       ...       ...   \n",
       "1455     7917            6            5          953         2         1   \n",
       "1456    13175            6            6         1542         2         0   \n",
       "1457     9042            7            9         1152         2         0   \n",
       "1458     9717            5            6         1078         1         0   \n",
       "1459     9937            5            6         1256         1         1   \n",
       "\n",
       "      BedroomAbvGr  TotRmsAbvGrd  Fireplaces  GarageArea  AboveMedianPrice  \n",
       "0                3             8           0         548                 1  \n",
       "1                3             6           1         460                 1  \n",
       "2                3             6           1         608                 1  \n",
       "3                3             7           1         642                 0  \n",
       "4                4             9           1         836                 1  \n",
       "...            ...           ...         ...         ...               ...  \n",
       "1455             3             7           1         460                 1  \n",
       "1456             3             7           2         500                 1  \n",
       "1457             4             9           2         252                 1  \n",
       "1458             2             5           0         240                 0  \n",
       "1459             3             6           0         276                 0  \n",
       "\n",
       "[1460 rows x 11 columns]"
      ]
     },
     "execution_count": 9,
     "metadata": {},
     "output_type": "execute_result"
    }
   ],
   "source": [
    "dataset"
   ]
  },
  {
   "cell_type": "code",
   "execution_count": 10,
   "id": "24f473db",
   "metadata": {},
   "outputs": [],
   "source": [
    "X = dataset.values[:, 0:10]\n",
    "Y = dataset.values[:, 10]"
   ]
  },
  {
   "cell_type": "code",
   "execution_count": 11,
   "id": "d618b082",
   "metadata": {},
   "outputs": [
    {
     "name": "stdout",
     "output_type": "stream",
     "text": [
      "[[ 8450     7     5 ...     8     0   548]\n",
      " [ 9600     6     8 ...     6     1   460]\n",
      " [11250     7     5 ...     6     1   608]\n",
      " ...\n",
      " [ 9042     7     9 ...     9     2   252]\n",
      " [ 9717     5     6 ...     5     0   240]\n",
      " [ 9937     5     6 ...     6     0   276]]\n",
      "[1 1 1 ... 1 0 0]\n"
     ]
    }
   ],
   "source": [
    "print(X)\n",
    "print(Y)"
   ]
  },
  {
   "cell_type": "code",
   "execution_count": 12,
   "id": "dbac3867",
   "metadata": {},
   "outputs": [],
   "source": [
    "from sklearn import preprocessing\n",
    "\n",
    "min_max_scaler = preprocessing.MinMaxScaler()\n",
    "X_scale = min_max_scaler.fit_transform(X)"
   ]
  },
  {
   "cell_type": "code",
   "execution_count": 13,
   "id": "76dfd379",
   "metadata": {},
   "outputs": [],
   "source": [
    "X_train, X_test, Y_train, Y_test = train_test_split(X_scale, Y, test_size=0.3)\n",
    "train_set_x = X_train.T\n",
    "train_set_y = Y_train.T\n",
    "test_set_x = X_test.T\n",
    "test_set_y = Y_test.T"
   ]
  },
  {
   "cell_type": "code",
   "execution_count": 14,
   "id": "befc8a6b",
   "metadata": {},
   "outputs": [
    {
     "name": "stdout",
     "output_type": "stream",
     "text": [
      "train accuracy: 88.5518590998043 %\n",
      "test accuracy: 88.81278538812785 %\n",
      "Weights:  [[ 0.61736714]\n",
      " [ 4.8793339 ]\n",
      " [-1.92354552]\n",
      " [ 1.59249583]\n",
      " [ 4.78714447]\n",
      " [ 1.69148441]\n",
      " [-1.78750156]\n",
      " [ 0.78061537]\n",
      " [ 2.85761233]\n",
      " [ 3.43495004]]\n",
      "Bias:  -6.12583779968347\n"
     ]
    }
   ],
   "source": [
    "d = model(train_set_x, train_set_y, test_set_x, test_set_y, num_itr = 5000, learningRate = 0.1, print_cost = False)\n",
    "print(\"Weights: \", d[\"w\"])\n",
    "print(\"Bias: \", d[\"b\"])"
   ]
  },
  {
   "cell_type": "markdown",
   "id": "f9727add",
   "metadata": {},
   "source": [
    "For AND Gate:"
   ]
  },
  {
   "cell_type": "code",
   "execution_count": 25,
   "id": "cca35f1d",
   "metadata": {},
   "outputs": [
    {
     "name": "stdout",
     "output_type": "stream",
     "text": [
      "train accuracy: 100.0 %\n",
      "test accuracy: 100.0 %\n",
      "Weights:  [[1.42148221]\n",
      " [1.42148221]]\n",
      "Bias:  -2.4588457124902616\n",
      "\n",
      "\n",
      " Input:  [[0]\n",
      " [1]]\n",
      "\n",
      "\n",
      " Output:  [[0.]]\n"
     ]
    }
   ],
   "source": [
    "train_set_x = np.array([[0, 0], [0, 1], [1, 0], [1, 1]]).T\n",
    "train_set_y = np.array([0, 0, 0, 1]).T\n",
    "test_set_x = np.array([[0, 1]]).T\n",
    "test_set_y = np.array([0]).T\n",
    "\n",
    "d = model(train_set_x, train_set_y, test_set_x, test_set_y, num_itr = 3000, learningRate = 0.01, print_cost = False)\n",
    "print(\"Weights: \", d[\"w\"])\n",
    "print(\"Bias: \", d[\"b\"])\n",
    "\n",
    "print(\"\\n\\n Input: \", test_set_x)\n",
    "print(\"\\n\\n Output: \",predict(d[\"w\"], d[\"b\"], test_set_x))"
   ]
  },
  {
   "cell_type": "markdown",
   "id": "01be8968",
   "metadata": {},
   "source": [
    "For OR Gate:"
   ]
  },
  {
   "cell_type": "code",
   "execution_count": 26,
   "id": "9cd4f404",
   "metadata": {},
   "outputs": [
    {
     "name": "stdout",
     "output_type": "stream",
     "text": [
      "train accuracy: 100.0 %\n",
      "test accuracy: 100.0 %\n",
      "Weights:  [[2.11923516]\n",
      " [2.11923516]]\n",
      "Bias:  -0.3331368667149199\n",
      "\n",
      "\n",
      " Input:  [[0]\n",
      " [1]]\n",
      "\n",
      "\n",
      " Output:  [[1.]]\n"
     ]
    }
   ],
   "source": [
    "train_set_x = np.array([[0, 0], [0, 1], [1, 0], [1, 1]]).T\n",
    "train_set_y = np.array([0, 1, 1, 1]).T\n",
    "test_set_x = np.array([[0, 1]]).T\n",
    "test_set_y = np.array([1]).T\n",
    "\n",
    "d = model(train_set_x, train_set_y, test_set_x, test_set_y, num_itr = 3000, learningRate = 0.01, print_cost = False)\n",
    "print(\"Weights: \", d[\"w\"])\n",
    "print(\"Bias: \", d[\"b\"])\n",
    "\n",
    "print(\"\\n\\n Input: \", test_set_x)\n",
    "print(\"\\n\\n Output: \",predict(d[\"w\"], d[\"b\"], test_set_x))"
   ]
  },
  {
   "cell_type": "markdown",
   "id": "74f77260",
   "metadata": {},
   "source": [
    "For XOR Gate:"
   ]
  },
  {
   "cell_type": "code",
   "execution_count": 28,
   "id": "76ae4475",
   "metadata": {},
   "outputs": [
    {
     "name": "stdout",
     "output_type": "stream",
     "text": [
      "train accuracy: 50.0 %\n",
      "test accuracy: 0.0 %\n",
      "Weights:  [[0.]\n",
      " [0.]]\n",
      "Bias:  0.0\n",
      "\n",
      "\n",
      " Input:  [[1]\n",
      " [0]]\n",
      "\n",
      "\n",
      " Output:  [[0.]]\n"
     ]
    }
   ],
   "source": [
    "train_set_x = np.array([[0, 0], [0, 1], [1, 0], [1, 1]]).T\n",
    "train_set_y = np.array([0, 1, 1, 0]).T\n",
    "test_set_x = np.array([[1, 0]]).T\n",
    "test_set_y = np.array([1]).T\n",
    "\n",
    "d = model(train_set_x, train_set_y, test_set_x, test_set_y, num_itr = 3000, learningRate = 0.001, print_cost = False)\n",
    "print(\"Weights: \", d[\"w\"])\n",
    "print(\"Bias: \", d[\"b\"])\n",
    "\n",
    "print(\"\\n\\n Input: \", test_set_x)\n",
    "print(\"\\n\\n Output: \",predict(d[\"w\"], d[\"b\"], test_set_x))"
   ]
  }
 ],
 "metadata": {
  "kernelspec": {
   "display_name": "Python 3 (ipykernel)",
   "language": "python",
   "name": "python3"
  },
  "language_info": {
   "codemirror_mode": {
    "name": "ipython",
    "version": 3
   },
   "file_extension": ".py",
   "mimetype": "text/x-python",
   "name": "python",
   "nbconvert_exporter": "python",
   "pygments_lexer": "ipython3",
   "version": "3.9.13"
  }
 },
 "nbformat": 4,
 "nbformat_minor": 5
}
