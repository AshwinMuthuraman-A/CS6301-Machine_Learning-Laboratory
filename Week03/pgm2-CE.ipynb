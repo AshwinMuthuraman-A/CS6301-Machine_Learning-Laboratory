{
 "cells": [
  {
   "cell_type": "code",
   "execution_count": 31,
   "id": "fe98867c",
   "metadata": {},
   "outputs": [],
   "source": [
    "import numpy as np\n",
    "import pandas as pd"
   ]
  },
  {
   "cell_type": "code",
   "execution_count": 32,
   "id": "2a7e6cb8",
   "metadata": {},
   "outputs": [
    {
     "data": {
      "text/html": [
       "<div>\n",
       "<style scoped>\n",
       "    .dataframe tbody tr th:only-of-type {\n",
       "        vertical-align: middle;\n",
       "    }\n",
       "\n",
       "    .dataframe tbody tr th {\n",
       "        vertical-align: top;\n",
       "    }\n",
       "\n",
       "    .dataframe thead th {\n",
       "        text-align: right;\n",
       "    }\n",
       "</style>\n",
       "<table border=\"1\" class=\"dataframe\">\n",
       "  <thead>\n",
       "    <tr style=\"text-align: right;\">\n",
       "      <th></th>\n",
       "      <th>State</th>\n",
       "      <th>Account Type</th>\n",
       "      <th>Educatio n</th>\n",
       "      <th>Employment</th>\n",
       "      <th>Applicati on</th>\n",
       "      <th>Y/N</th>\n",
       "    </tr>\n",
       "  </thead>\n",
       "  <tbody>\n",
       "    <tr>\n",
       "      <th>0</th>\n",
       "      <td>MP</td>\n",
       "      <td>NaN</td>\n",
       "      <td>Bachelor</td>\n",
       "      <td>Employed</td>\n",
       "      <td>Online</td>\n",
       "      <td>Y</td>\n",
       "    </tr>\n",
       "    <tr>\n",
       "      <th>1</th>\n",
       "      <td>MP</td>\n",
       "      <td>Savings</td>\n",
       "      <td>Doctorate</td>\n",
       "      <td>Unemployed</td>\n",
       "      <td>Offline</td>\n",
       "      <td>N</td>\n",
       "    </tr>\n",
       "    <tr>\n",
       "      <th>2</th>\n",
       "      <td>MP</td>\n",
       "      <td>Savings</td>\n",
       "      <td>Bachelor</td>\n",
       "      <td>Employed</td>\n",
       "      <td>Online</td>\n",
       "      <td>Y</td>\n",
       "    </tr>\n",
       "    <tr>\n",
       "      <th>3</th>\n",
       "      <td>MH</td>\n",
       "      <td>Current</td>\n",
       "      <td>Master</td>\n",
       "      <td>Employed</td>\n",
       "      <td>Online</td>\n",
       "      <td>N</td>\n",
       "    </tr>\n",
       "    <tr>\n",
       "      <th>4</th>\n",
       "      <td>MP</td>\n",
       "      <td>NaN</td>\n",
       "      <td>Doctorate</td>\n",
       "      <td>Employed</td>\n",
       "      <td>Online</td>\n",
       "      <td>Y</td>\n",
       "    </tr>\n",
       "    <tr>\n",
       "      <th>5</th>\n",
       "      <td>MP</td>\n",
       "      <td>Savings</td>\n",
       "      <td>Doctorate</td>\n",
       "      <td>Unemployed</td>\n",
       "      <td>Online</td>\n",
       "      <td>Y</td>\n",
       "    </tr>\n",
       "    <tr>\n",
       "      <th>6</th>\n",
       "      <td>MP</td>\n",
       "      <td>NaN</td>\n",
       "      <td>Master</td>\n",
       "      <td>Unemployed</td>\n",
       "      <td>Offline</td>\n",
       "      <td>N</td>\n",
       "    </tr>\n",
       "  </tbody>\n",
       "</table>\n",
       "</div>"
      ],
      "text/plain": [
       "  State Account Type Educatio n  Employment Applicati on Y/N\n",
       "0    MP          NaN   Bachelor    Employed       Online   Y\n",
       "1    MP      Savings  Doctorate  Unemployed      Offline   N\n",
       "2    MP      Savings   Bachelor    Employed       Online   Y\n",
       "3    MH      Current     Master    Employed       Online   N\n",
       "4    MP          NaN  Doctorate    Employed       Online   Y\n",
       "5    MP      Savings  Doctorate  Unemployed       Online   Y\n",
       "6    MP          NaN     Master  Unemployed      Offline   N"
      ]
     },
     "execution_count": 32,
     "metadata": {},
     "output_type": "execute_result"
    }
   ],
   "source": [
    "data = pd.read_csv('data2.csv')\n",
    "data"
   ]
  },
  {
   "cell_type": "code",
   "execution_count": 33,
   "id": "4a70bd37",
   "metadata": {},
   "outputs": [
    {
     "name": "stdout",
     "output_type": "stream",
     "text": [
      "Instances are: \n",
      " [['MP' nan 'Bachelor' 'Employed' 'Online']\n",
      " ['MP' 'Savings' 'Doctorate' 'Unemployed' 'Offline']\n",
      " ['MP' 'Savings' 'Bachelor' 'Employed' 'Online']\n",
      " ['MH' 'Current' 'Master' 'Employed' 'Online']\n",
      " ['MP' nan 'Doctorate' 'Employed' 'Online']\n",
      " ['MP' 'Savings' 'Doctorate' 'Unemployed' 'Online']\n",
      " ['MP' nan 'Master' 'Unemployed' 'Offline']]\n"
     ]
    }
   ],
   "source": [
    "concepts = np.array(data.iloc[:,0:-1])\n",
    "print(\"Instances are: \\n\",concepts)"
   ]
  },
  {
   "cell_type": "code",
   "execution_count": 34,
   "id": "7d24caaf",
   "metadata": {},
   "outputs": [
    {
     "name": "stdout",
     "output_type": "stream",
     "text": [
      "Target Values are:  ['Y' 'N' 'Y' 'N' 'Y' 'Y' 'N']\n"
     ]
    }
   ],
   "source": [
    "target = np.array(data.iloc[:,-1])\n",
    "print(\"Target Values are: \",target)"
   ]
  },
  {
   "cell_type": "code",
   "execution_count": 35,
   "id": "040dfb02",
   "metadata": {},
   "outputs": [],
   "source": [
    "def learn(concepts, target): \n",
    "    for i, val in enumerate(target):\n",
    "        if val == \"Y\":\n",
    "            specific_h = concepts[i].copy()\n",
    "            break\n",
    "            \n",
    "    print(\"\\n *****Initialization of specific_h and genearal_h*****\")\n",
    "    print(\"\\n Specific Boundary: \", specific_h)\n",
    "    general_h = [[\"?\" for i in range(len(specific_h))] for i in range(len(target))]\n",
    "    print(\"\\n Generic Boundary: \",general_h)\n",
    "    \n",
    "    for i, h in enumerate(concepts):\n",
    "        if target[i] == \"Y\":\n",
    "            print(\"\\n Instance is Positive\")\n",
    "            for x in range(len(specific_h)):\n",
    "                if h[x]!= specific_h[x]:\n",
    "                    specific_h[x] ='?'\n",
    "                    general_h[x][x] ='?'\n",
    "                    \n",
    "        if target[i] == \"N\":\n",
    "            print(\"\\n Instance is Negative\")\n",
    "            for x in range(len(specific_h)):\n",
    "                if h[x]!= specific_h[x]:\n",
    "                    general_h[x][x] = specific_h[x]\n",
    "                else:\n",
    "                    general_h[x][x] = '?'\n",
    "                    \n",
    "        print(\"Specific Bundary after \", i+1, \"Instance is \", specific_h)\n",
    "        print(\"Generic Boundary after \", i+1, \"Instance is \", general_h)\n",
    "        print(\"\\n\")\n",
    "        \n",
    "    remove_h = [\"?\" for i in range(len(specific_h))]\n",
    "    indices = [i for i, val in enumerate(general_h) if val == remove_h]\n",
    "    for i in indices:\n",
    "        general_h.remove(remove_h)\n",
    "        \n",
    "    return specific_h, general_h"
   ]
  },
  {
   "cell_type": "code",
   "execution_count": 36,
   "id": "e94717cd",
   "metadata": {},
   "outputs": [
    {
     "name": "stdout",
     "output_type": "stream",
     "text": [
      "\n",
      " *****Initialization of specific_h and genearal_h*****\n",
      "\n",
      " Specific Boundary:  ['MP' nan 'Bachelor' 'Employed' 'Online']\n",
      "\n",
      " Generic Boundary:  [['?', '?', '?', '?', '?'], ['?', '?', '?', '?', '?'], ['?', '?', '?', '?', '?'], ['?', '?', '?', '?', '?'], ['?', '?', '?', '?', '?'], ['?', '?', '?', '?', '?'], ['?', '?', '?', '?', '?']]\n",
      "\n",
      " Instance is Positive\n",
      "Specific Bundary after  1 Instance is  ['MP' '?' 'Bachelor' 'Employed' 'Online']\n",
      "Generic Boundary after  1 Instance is  [['?', '?', '?', '?', '?'], ['?', '?', '?', '?', '?'], ['?', '?', '?', '?', '?'], ['?', '?', '?', '?', '?'], ['?', '?', '?', '?', '?'], ['?', '?', '?', '?', '?'], ['?', '?', '?', '?', '?']]\n",
      "\n",
      "\n",
      "\n",
      " Instance is Negative\n",
      "Specific Bundary after  2 Instance is  ['MP' '?' 'Bachelor' 'Employed' 'Online']\n",
      "Generic Boundary after  2 Instance is  [['?', '?', '?', '?', '?'], ['?', '?', '?', '?', '?'], ['?', '?', 'Bachelor', '?', '?'], ['?', '?', '?', 'Employed', '?'], ['?', '?', '?', '?', 'Online'], ['?', '?', '?', '?', '?'], ['?', '?', '?', '?', '?']]\n",
      "\n",
      "\n",
      "\n",
      " Instance is Positive\n",
      "Specific Bundary after  3 Instance is  ['MP' '?' 'Bachelor' 'Employed' 'Online']\n",
      "Generic Boundary after  3 Instance is  [['?', '?', '?', '?', '?'], ['?', '?', '?', '?', '?'], ['?', '?', 'Bachelor', '?', '?'], ['?', '?', '?', 'Employed', '?'], ['?', '?', '?', '?', 'Online'], ['?', '?', '?', '?', '?'], ['?', '?', '?', '?', '?']]\n",
      "\n",
      "\n",
      "\n",
      " Instance is Negative\n",
      "Specific Bundary after  4 Instance is  ['MP' '?' 'Bachelor' 'Employed' 'Online']\n",
      "Generic Boundary after  4 Instance is  [['MP', '?', '?', '?', '?'], ['?', '?', '?', '?', '?'], ['?', '?', 'Bachelor', '?', '?'], ['?', '?', '?', '?', '?'], ['?', '?', '?', '?', '?'], ['?', '?', '?', '?', '?'], ['?', '?', '?', '?', '?']]\n",
      "\n",
      "\n",
      "\n",
      " Instance is Positive\n",
      "Specific Bundary after  5 Instance is  ['MP' '?' '?' 'Employed' 'Online']\n",
      "Generic Boundary after  5 Instance is  [['MP', '?', '?', '?', '?'], ['?', '?', '?', '?', '?'], ['?', '?', '?', '?', '?'], ['?', '?', '?', '?', '?'], ['?', '?', '?', '?', '?'], ['?', '?', '?', '?', '?'], ['?', '?', '?', '?', '?']]\n",
      "\n",
      "\n",
      "\n",
      " Instance is Positive\n",
      "Specific Bundary after  6 Instance is  ['MP' '?' '?' '?' 'Online']\n",
      "Generic Boundary after  6 Instance is  [['MP', '?', '?', '?', '?'], ['?', '?', '?', '?', '?'], ['?', '?', '?', '?', '?'], ['?', '?', '?', '?', '?'], ['?', '?', '?', '?', '?'], ['?', '?', '?', '?', '?'], ['?', '?', '?', '?', '?']]\n",
      "\n",
      "\n",
      "\n",
      " Instance is Negative\n",
      "Specific Bundary after  7 Instance is  ['MP' '?' '?' '?' 'Online']\n",
      "Generic Boundary after  7 Instance is  [['?', '?', '?', '?', '?'], ['?', '?', '?', '?', '?'], ['?', '?', '?', '?', '?'], ['?', '?', '?', '?', '?'], ['?', '?', '?', '?', 'Online'], ['?', '?', '?', '?', '?'], ['?', '?', '?', '?', '?']]\n",
      "\n",
      "\n"
     ]
    }
   ],
   "source": [
    "s_final, g_final = learn(concepts, target)"
   ]
  },
  {
   "cell_type": "code",
   "execution_count": 37,
   "id": "2cabbb43",
   "metadata": {},
   "outputs": [
    {
     "name": "stdout",
     "output_type": "stream",
     "text": [
      "Final Specific_h: \n",
      "['MP' '?' '?' '?' 'Online']\n",
      "Final General_h: \n",
      "[['?', '?', '?', '?', 'Online']]\n"
     ]
    }
   ],
   "source": [
    "print(\"Final Specific_h: \", s_final, sep=\"\\n\")\n",
    "print(\"Final General_h: \", g_final, sep=\"\\n\")"
   ]
  },
  {
   "cell_type": "code",
   "execution_count": 49,
   "id": "843b25d2",
   "metadata": {},
   "outputs": [],
   "source": [
    "def test(test_ex, g_final):\n",
    "    pred = 'N'\n",
    "    n = len(test_ex)\n",
    "    for row in range(len(g_final)):\n",
    "        flag = 1\n",
    "        for col in range(n):\n",
    "            if(g_final[row][col]!='?' and test_ex[col]!=g_final[row][col]):\n",
    "                flag = 0\n",
    "                break\n",
    "        if(flag==1):\n",
    "            pred = 'Y'\n",
    "            break\n",
    "    \n",
    "    return pred"
   ]
  },
  {
   "cell_type": "code",
   "execution_count": 50,
   "id": "daa1a288",
   "metadata": {},
   "outputs": [],
   "source": [
    "test_ex = np.array(['MP', 'Current', 'Bachelor', 'Unemployed', 'Online'])"
   ]
  },
  {
   "cell_type": "code",
   "execution_count": 54,
   "id": "c31a7965",
   "metadata": {},
   "outputs": [
    {
     "name": "stdout",
     "output_type": "stream",
     "text": [
      "\n",
      " The example given is:  ['MP' 'Current' 'Bachelor' 'Unemployed' 'Online']\n",
      "\n",
      " The prediction via Candidate Elimination is:  Y\n"
     ]
    }
   ],
   "source": [
    "pred = test(test_ex, g_final)\n",
    "print(\"\\n The example given is: \", test_ex)\n",
    "print(\"\\n The prediction via Candidate Elimination is: \", pred)"
   ]
  }
 ],
 "metadata": {
  "kernelspec": {
   "display_name": "Python 3 (ipykernel)",
   "language": "python",
   "name": "python3"
  },
  "language_info": {
   "codemirror_mode": {
    "name": "ipython",
    "version": 3
   },
   "file_extension": ".py",
   "mimetype": "text/x-python",
   "name": "python",
   "nbconvert_exporter": "python",
   "pygments_lexer": "ipython3",
   "version": "3.9.13"
  }
 },
 "nbformat": 4,
 "nbformat_minor": 5
}
