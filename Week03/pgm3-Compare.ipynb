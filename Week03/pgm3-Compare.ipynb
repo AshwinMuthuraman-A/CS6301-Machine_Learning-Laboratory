{
 "cells": [
  {
   "cell_type": "markdown",
   "id": "b4c499f5",
   "metadata": {},
   "source": [
    "Find-S"
   ]
  },
  {
   "cell_type": "code",
   "execution_count": 1,
   "id": "1130b252",
   "metadata": {},
   "outputs": [],
   "source": [
    "import pandas as pd\n",
    "import numpy as np"
   ]
  },
  {
   "cell_type": "code",
   "execution_count": 2,
   "id": "b4cfa08b",
   "metadata": {},
   "outputs": [
    {
     "data": {
      "text/html": [
       "<div>\n",
       "<style scoped>\n",
       "    .dataframe tbody tr th:only-of-type {\n",
       "        vertical-align: middle;\n",
       "    }\n",
       "\n",
       "    .dataframe tbody tr th {\n",
       "        vertical-align: top;\n",
       "    }\n",
       "\n",
       "    .dataframe thead th {\n",
       "        text-align: right;\n",
       "    }\n",
       "</style>\n",
       "<table border=\"1\" class=\"dataframe\">\n",
       "  <thead>\n",
       "    <tr style=\"text-align: right;\">\n",
       "      <th></th>\n",
       "      <th>S.No</th>\n",
       "      <th>Color</th>\n",
       "      <th>Toughness</th>\n",
       "      <th>Fungus</th>\n",
       "      <th>Appearance</th>\n",
       "      <th>Poisonous</th>\n",
       "    </tr>\n",
       "  </thead>\n",
       "  <tbody>\n",
       "    <tr>\n",
       "      <th>0</th>\n",
       "      <td>1</td>\n",
       "      <td>Green</td>\n",
       "      <td>Hard</td>\n",
       "      <td>No</td>\n",
       "      <td>Wrinkled</td>\n",
       "      <td>Yes</td>\n",
       "    </tr>\n",
       "    <tr>\n",
       "      <th>1</th>\n",
       "      <td>2</td>\n",
       "      <td>Green</td>\n",
       "      <td>Hard</td>\n",
       "      <td>Yes</td>\n",
       "      <td>Smooth</td>\n",
       "      <td>No</td>\n",
       "    </tr>\n",
       "    <tr>\n",
       "      <th>2</th>\n",
       "      <td>3</td>\n",
       "      <td>Brown</td>\n",
       "      <td>Soft</td>\n",
       "      <td>No</td>\n",
       "      <td>Wrinkled</td>\n",
       "      <td>No</td>\n",
       "    </tr>\n",
       "    <tr>\n",
       "      <th>3</th>\n",
       "      <td>4</td>\n",
       "      <td>Orange</td>\n",
       "      <td>Hard</td>\n",
       "      <td>No</td>\n",
       "      <td>Wrinkled</td>\n",
       "      <td>Yes</td>\n",
       "    </tr>\n",
       "    <tr>\n",
       "      <th>4</th>\n",
       "      <td>5</td>\n",
       "      <td>Green</td>\n",
       "      <td>Soft</td>\n",
       "      <td>Yes</td>\n",
       "      <td>Smooth</td>\n",
       "      <td>Yes</td>\n",
       "    </tr>\n",
       "    <tr>\n",
       "      <th>5</th>\n",
       "      <td>6</td>\n",
       "      <td>Green</td>\n",
       "      <td>Hard</td>\n",
       "      <td>Yes</td>\n",
       "      <td>Wrinkled</td>\n",
       "      <td>Yes</td>\n",
       "    </tr>\n",
       "    <tr>\n",
       "      <th>6</th>\n",
       "      <td>7</td>\n",
       "      <td>Orange</td>\n",
       "      <td>Hard</td>\n",
       "      <td>No</td>\n",
       "      <td>Wrinkled</td>\n",
       "      <td>Yes</td>\n",
       "    </tr>\n",
       "  </tbody>\n",
       "</table>\n",
       "</div>"
      ],
      "text/plain": [
       "   S.No   Color Toughness Fungus Appearance Poisonous\n",
       "0     1   Green      Hard     No   Wrinkled       Yes\n",
       "1     2   Green      Hard    Yes     Smooth        No\n",
       "2     3   Brown      Soft     No   Wrinkled        No\n",
       "3     4  Orange      Hard     No   Wrinkled       Yes\n",
       "4     5   Green      Soft    Yes     Smooth       Yes\n",
       "5     6   Green      Hard    Yes   Wrinkled       Yes\n",
       "6     7  Orange      Hard     No   Wrinkled       Yes"
      ]
     },
     "execution_count": 2,
     "metadata": {},
     "output_type": "execute_result"
    }
   ],
   "source": [
    "data = pd.read_csv(\"data1.csv\")\n",
    "data"
   ]
  },
  {
   "cell_type": "code",
   "execution_count": 6,
   "id": "e87d36dd",
   "metadata": {},
   "outputs": [
    {
     "name": "stdout",
     "output_type": "stream",
     "text": [
      "The attributes are: \n",
      " [[1 'Green' 'Hard' 'No' 'Wrinkled']\n",
      " [2 'Green' 'Hard' 'Yes' 'Smooth']\n",
      " [3 'Brown' 'Soft' 'No' 'Wrinkled']\n",
      " [4 'Orange' 'Hard' 'No' 'Wrinkled']\n",
      " [5 'Green' 'Soft' 'Yes' 'Smooth']\n",
      " [6 'Green' 'Hard' 'Yes' 'Wrinkled']\n",
      " [7 'Orange' 'Hard' 'No' 'Wrinkled']]\n"
     ]
    }
   ],
   "source": [
    "d = np.array(data)[:,:-1]\n",
    "print(\"The attributes are: \\n\",d)"
   ]
  },
  {
   "cell_type": "code",
   "execution_count": 11,
   "id": "5052bb1b",
   "metadata": {},
   "outputs": [
    {
     "name": "stdout",
     "output_type": "stream",
     "text": [
      "n The target is:  ['Yes' 'No' 'No' 'Yes' 'Yes' 'Yes' 'Yes']\n"
     ]
    }
   ],
   "source": [
    "target = np.array(data)[:,-1]\n",
    "print(\"n The target is: \",target)"
   ]
  },
  {
   "cell_type": "code",
   "execution_count": 12,
   "id": "aca04316",
   "metadata": {},
   "outputs": [],
   "source": [
    "def train(c,t):\n",
    "    for i, val in enumerate(t):\n",
    "        if val == \"Yes\":\n",
    "            specific_hypothesis = c[i].copy()\n",
    "            break\n",
    "    print(\"\\n Initial specific hypothesis is: \", specific_hypothesis)\n",
    "            \n",
    "    for i, val in enumerate(c):\n",
    "        if t[i] == \"Yes\":\n",
    "            for x in range(len(specific_hypothesis)):\n",
    "                if val[x] != specific_hypothesis[x]:\n",
    "                    specific_hypothesis[x] = '?'\n",
    "                else:\n",
    "                    pass\n",
    "        print(\"\\n Specific Hypothesis after example \", i+1, \" is: \", specific_hypothesis)\n",
    "    return specific_hypothesis  "
   ]
  },
  {
   "cell_type": "code",
   "execution_count": 27,
   "id": "b9d24d1f",
   "metadata": {},
   "outputs": [
    {
     "name": "stdout",
     "output_type": "stream",
     "text": [
      "\n",
      " Initial specific hypothesis is:  [1 'Green' 'Hard' 'No' 'Wrinkled']\n",
      "\n",
      " Specific Hypothesis after example  1  is:  [1 'Green' 'Hard' 'No' 'Wrinkled']\n",
      "\n",
      " Specific Hypothesis after example  2  is:  [1 'Green' 'Hard' 'No' 'Wrinkled']\n",
      "\n",
      " Specific Hypothesis after example  3  is:  [1 'Green' 'Hard' 'No' 'Wrinkled']\n",
      "\n",
      " Specific Hypothesis after example  4  is:  ['?' '?' 'Hard' 'No' 'Wrinkled']\n",
      "\n",
      " Specific Hypothesis after example  5  is:  ['?' '?' '?' '?' '?']\n",
      "\n",
      " Specific Hypothesis after example  6  is:  ['?' '?' '?' '?' '?']\n",
      "\n",
      " Specific Hypothesis after example  7  is:  ['?' '?' '?' '?' '?']\n",
      "\n",
      " The final specific hypothesis is: ['?' '?' '?' '?' '?']\n"
     ]
    }
   ],
   "source": [
    "specific_hypothesis = train(d,target)\n",
    "print(\"\\n The final specific hypothesis is:\", specific_hypothesis)"
   ]
  },
  {
   "cell_type": "code",
   "execution_count": 15,
   "id": "e93dfbcc",
   "metadata": {},
   "outputs": [],
   "source": [
    "def test_single_ex(test_ex, s_hyp):\n",
    "    pred = \"No\"\n",
    "    n = len(test_ex)\n",
    "    flag = 1\n",
    "    for col in range(n):\n",
    "        if(s_hyp[col]!='?' and test_ex[col]!=s_hyp[col]):\n",
    "            flag = 0\n",
    "            break\n",
    "    if(flag==1):\n",
    "        pred = \"Yes\"\n",
    "    \n",
    "    return pred"
   ]
  },
  {
   "cell_type": "code",
   "execution_count": 16,
   "id": "7769fc4c",
   "metadata": {},
   "outputs": [],
   "source": [
    "def test_full_ex(test_set, s_hyp):\n",
    "    pred_arr =  []\n",
    "    for i, val in enumerate(test_set):\n",
    "        pred_arr.append(test_single_ex(val, s_hyp))\n",
    "    return pred_arr"
   ]
  },
  {
   "cell_type": "code",
   "execution_count": 46,
   "id": "eecf3151",
   "metadata": {},
   "outputs": [],
   "source": [
    "def calc_acc(pred_arr, target):\n",
    "    n = len(target)\n",
    "    count_correct = 0\n",
    "    for i in range(n):\n",
    "        if(target[i] == pred_arr[i]):\n",
    "            count_correct = count_correct + 1\n",
    "    print(\"\\n Accuracy: \", (count_correct/n)*100)\n",
    "    print(\"\\n Error Rate: \", (100-(count_correct/n)*100))"
   ]
  },
  {
   "cell_type": "code",
   "execution_count": 21,
   "id": "00182979",
   "metadata": {},
   "outputs": [
    {
     "data": {
      "text/html": [
       "<div>\n",
       "<style scoped>\n",
       "    .dataframe tbody tr th:only-of-type {\n",
       "        vertical-align: middle;\n",
       "    }\n",
       "\n",
       "    .dataframe tbody tr th {\n",
       "        vertical-align: top;\n",
       "    }\n",
       "\n",
       "    .dataframe thead th {\n",
       "        text-align: right;\n",
       "    }\n",
       "</style>\n",
       "<table border=\"1\" class=\"dataframe\">\n",
       "  <thead>\n",
       "    <tr style=\"text-align: right;\">\n",
       "      <th></th>\n",
       "      <th>S.No</th>\n",
       "      <th>Color</th>\n",
       "      <th>Toughness</th>\n",
       "      <th>Fungus</th>\n",
       "      <th>Appearance</th>\n",
       "      <th>Poisonous</th>\n",
       "    </tr>\n",
       "  </thead>\n",
       "  <tbody>\n",
       "    <tr>\n",
       "      <th>0</th>\n",
       "      <td>1</td>\n",
       "      <td>Green</td>\n",
       "      <td>Soft</td>\n",
       "      <td>No</td>\n",
       "      <td>Wrinkled</td>\n",
       "      <td>Yes</td>\n",
       "    </tr>\n",
       "    <tr>\n",
       "      <th>1</th>\n",
       "      <td>2</td>\n",
       "      <td>Green</td>\n",
       "      <td>Hard</td>\n",
       "      <td>Yes</td>\n",
       "      <td>Smooth</td>\n",
       "      <td>No</td>\n",
       "    </tr>\n",
       "    <tr>\n",
       "      <th>2</th>\n",
       "      <td>3</td>\n",
       "      <td>Brown</td>\n",
       "      <td>Soft</td>\n",
       "      <td>Yes</td>\n",
       "      <td>Wrinkled</td>\n",
       "      <td>Yes</td>\n",
       "    </tr>\n",
       "    <tr>\n",
       "      <th>3</th>\n",
       "      <td>4</td>\n",
       "      <td>Orange</td>\n",
       "      <td>Hard</td>\n",
       "      <td>No</td>\n",
       "      <td>Wrinkled</td>\n",
       "      <td>Yes</td>\n",
       "    </tr>\n",
       "    <tr>\n",
       "      <th>4</th>\n",
       "      <td>5</td>\n",
       "      <td>Green</td>\n",
       "      <td>Soft</td>\n",
       "      <td>Yes</td>\n",
       "      <td>Smooth</td>\n",
       "      <td>No</td>\n",
       "    </tr>\n",
       "  </tbody>\n",
       "</table>\n",
       "</div>"
      ],
      "text/plain": [
       "   S.No   Color Toughness Fungus Appearance Poisonous\n",
       "0     1   Green      Soft     No   Wrinkled       Yes\n",
       "1     2   Green      Hard    Yes     Smooth        No\n",
       "2     3   Brown      Soft    Yes   Wrinkled       Yes\n",
       "3     4  Orange      Hard     No   Wrinkled       Yes\n",
       "4     5   Green      Soft    Yes     Smooth        No"
      ]
     },
     "execution_count": 21,
     "metadata": {},
     "output_type": "execute_result"
    }
   ],
   "source": [
    "target_data = pd.read_csv(\"data3.csv\")\n",
    "target_data"
   ]
  },
  {
   "cell_type": "code",
   "execution_count": 23,
   "id": "c1288934",
   "metadata": {},
   "outputs": [
    {
     "name": "stdout",
     "output_type": "stream",
     "text": [
      "The attributes are: \n",
      " [[1 'Green' 'Soft' 'No' 'Wrinkled']\n",
      " [2 'Green' 'Hard' 'Yes' 'Smooth']\n",
      " [3 'Brown' 'Soft' 'Yes' 'Wrinkled']\n",
      " [4 'Orange' 'Hard' 'No' 'Wrinkled']\n",
      " [5 'Green' 'Soft' 'Yes' 'Smooth']]\n"
     ]
    }
   ],
   "source": [
    "test_set = np.array(target_data)[:,:-1]\n",
    "print(\"The attributes are: \\n\", test_set)"
   ]
  },
  {
   "cell_type": "code",
   "execution_count": 39,
   "id": "70306ef2",
   "metadata": {},
   "outputs": [
    {
     "name": "stdout",
     "output_type": "stream",
     "text": [
      "n The target is:  ['Yes' 'No' 'Yes' 'Yes' 'No']\n"
     ]
    },
    {
     "data": {
      "text/plain": [
       "'Yes'"
      ]
     },
     "execution_count": 39,
     "metadata": {},
     "output_type": "execute_result"
    }
   ],
   "source": [
    "test_target = np.array(target_data)[:,-1]\n",
    "print(\"n The target is: \", test_target)\n",
    "test_target[0]"
   ]
  },
  {
   "cell_type": "code",
   "execution_count": 47,
   "id": "1bc2cdbe",
   "metadata": {},
   "outputs": [
    {
     "name": "stdout",
     "output_type": "stream",
     "text": [
      "['Yes', 'Yes', 'Yes', 'Yes', 'Yes']\n",
      "\n",
      " Accuracy:  60.0\n",
      "\n",
      " Error Rate:  40.0\n"
     ]
    }
   ],
   "source": [
    "pred_arr = test_full_ex(test_set, specific_hypothesis)\n",
    "print(pred_arr)\n",
    "calc_acc(pred_arr, test_target)"
   ]
  },
  {
   "cell_type": "markdown",
   "id": "8e29d4b6",
   "metadata": {},
   "source": [
    "Candidate Elimination"
   ]
  },
  {
   "cell_type": "code",
   "execution_count": 53,
   "id": "8168e698",
   "metadata": {},
   "outputs": [],
   "source": [
    "def learn(concepts, target): \n",
    "    for i, val in enumerate(target):\n",
    "        if val == \"Yes\":\n",
    "            specific_h = concepts[i].copy()\n",
    "            break\n",
    "            \n",
    "    print(\"\\n *****Initialization of specific_h and genearal_h*****\")\n",
    "    print(\"\\n Specific Boundary: \", specific_h)\n",
    "    general_h = [[\"?\" for i in range(len(specific_h))] for i in range(len(target))]\n",
    "    print(\"\\n Generic Boundary: \",general_h)\n",
    "    \n",
    "    for i, h in enumerate(concepts):\n",
    "        if target[i] == \"Yes\":\n",
    "            print(\"\\n Instance is Positive\")\n",
    "            for x in range(len(specific_h)):\n",
    "                if h[x]!= specific_h[x]:\n",
    "                    specific_h[x] ='?'\n",
    "                    general_h[x][x] ='?'\n",
    "                    \n",
    "        if target[i] == \"No\":\n",
    "            print(\"\\n Instance is Negative\")\n",
    "            for x in range(len(specific_h)):\n",
    "                if h[x]!= specific_h[x]:\n",
    "                    general_h[x][x] = specific_h[x]\n",
    "                else:\n",
    "                    general_h[x][x] = '?'\n",
    "                    \n",
    "        print(\"Specific Bundary after \", i+1, \"Instance is \", specific_h)\n",
    "        print(\"Generic Boundary after \", i+1, \"Instance is \", general_h)\n",
    "        print(\"\\n\")\n",
    "        \n",
    "    remove_h = [\"?\" for i in range(len(specific_h))]\n",
    "    indices = [i for i, val in enumerate(general_h) if val == remove_h]\n",
    "    for i in indices:\n",
    "        general_h.remove(remove_h)\n",
    "        \n",
    "    return specific_h, general_h"
   ]
  },
  {
   "cell_type": "code",
   "execution_count": 54,
   "id": "f3196b95",
   "metadata": {},
   "outputs": [
    {
     "name": "stdout",
     "output_type": "stream",
     "text": [
      "\n",
      " *****Initialization of specific_h and genearal_h*****\n",
      "\n",
      " Specific Boundary:  [1 'Green' 'Hard' 'No' 'Wrinkled']\n",
      "\n",
      " Generic Boundary:  [['?', '?', '?', '?', '?'], ['?', '?', '?', '?', '?'], ['?', '?', '?', '?', '?'], ['?', '?', '?', '?', '?'], ['?', '?', '?', '?', '?'], ['?', '?', '?', '?', '?'], ['?', '?', '?', '?', '?']]\n",
      "\n",
      " Instance is Positive\n",
      "Specific Bundary after  1 Instance is  [1 'Green' 'Hard' 'No' 'Wrinkled']\n",
      "Generic Boundary after  1 Instance is  [['?', '?', '?', '?', '?'], ['?', '?', '?', '?', '?'], ['?', '?', '?', '?', '?'], ['?', '?', '?', '?', '?'], ['?', '?', '?', '?', '?'], ['?', '?', '?', '?', '?'], ['?', '?', '?', '?', '?']]\n",
      "\n",
      "\n",
      "\n",
      " Instance is Negative\n",
      "Specific Bundary after  2 Instance is  [1 'Green' 'Hard' 'No' 'Wrinkled']\n",
      "Generic Boundary after  2 Instance is  [[1, '?', '?', '?', '?'], ['?', '?', '?', '?', '?'], ['?', '?', '?', '?', '?'], ['?', '?', '?', 'No', '?'], ['?', '?', '?', '?', 'Wrinkled'], ['?', '?', '?', '?', '?'], ['?', '?', '?', '?', '?']]\n",
      "\n",
      "\n",
      "\n",
      " Instance is Negative\n",
      "Specific Bundary after  3 Instance is  [1 'Green' 'Hard' 'No' 'Wrinkled']\n",
      "Generic Boundary after  3 Instance is  [[1, '?', '?', '?', '?'], ['?', 'Green', '?', '?', '?'], ['?', '?', 'Hard', '?', '?'], ['?', '?', '?', '?', '?'], ['?', '?', '?', '?', '?'], ['?', '?', '?', '?', '?'], ['?', '?', '?', '?', '?']]\n",
      "\n",
      "\n",
      "\n",
      " Instance is Positive\n",
      "Specific Bundary after  4 Instance is  ['?' '?' 'Hard' 'No' 'Wrinkled']\n",
      "Generic Boundary after  4 Instance is  [['?', '?', '?', '?', '?'], ['?', '?', '?', '?', '?'], ['?', '?', 'Hard', '?', '?'], ['?', '?', '?', '?', '?'], ['?', '?', '?', '?', '?'], ['?', '?', '?', '?', '?'], ['?', '?', '?', '?', '?']]\n",
      "\n",
      "\n",
      "\n",
      " Instance is Positive\n",
      "Specific Bundary after  5 Instance is  ['?' '?' '?' '?' '?']\n",
      "Generic Boundary after  5 Instance is  [['?', '?', '?', '?', '?'], ['?', '?', '?', '?', '?'], ['?', '?', '?', '?', '?'], ['?', '?', '?', '?', '?'], ['?', '?', '?', '?', '?'], ['?', '?', '?', '?', '?'], ['?', '?', '?', '?', '?']]\n",
      "\n",
      "\n",
      "\n",
      " Instance is Positive\n",
      "Specific Bundary after  6 Instance is  ['?' '?' '?' '?' '?']\n",
      "Generic Boundary after  6 Instance is  [['?', '?', '?', '?', '?'], ['?', '?', '?', '?', '?'], ['?', '?', '?', '?', '?'], ['?', '?', '?', '?', '?'], ['?', '?', '?', '?', '?'], ['?', '?', '?', '?', '?'], ['?', '?', '?', '?', '?']]\n",
      "\n",
      "\n",
      "\n",
      " Instance is Positive\n",
      "Specific Bundary after  7 Instance is  ['?' '?' '?' '?' '?']\n",
      "Generic Boundary after  7 Instance is  [['?', '?', '?', '?', '?'], ['?', '?', '?', '?', '?'], ['?', '?', '?', '?', '?'], ['?', '?', '?', '?', '?'], ['?', '?', '?', '?', '?'], ['?', '?', '?', '?', '?'], ['?', '?', '?', '?', '?']]\n",
      "\n",
      "\n"
     ]
    }
   ],
   "source": [
    "s_final, g_final = learn(d, target)"
   ]
  },
  {
   "cell_type": "code",
   "execution_count": 55,
   "id": "4975b5f6",
   "metadata": {},
   "outputs": [
    {
     "name": "stdout",
     "output_type": "stream",
     "text": [
      "Final Specific_h: \n",
      "['?' '?' '?' '?' '?']\n",
      "Final General_h: \n",
      "[]\n"
     ]
    }
   ],
   "source": [
    "print(\"Final Specific_h: \", s_final, sep=\"\\n\")\n",
    "print(\"Final General_h: \", g_final, sep=\"\\n\")"
   ]
  },
  {
   "cell_type": "code",
   "execution_count": 62,
   "id": "6da2a0af",
   "metadata": {},
   "outputs": [],
   "source": [
    "def test(test_ex, g_final):\n",
    "    pred = 'No'\n",
    "    n = len(test_ex)\n",
    "    for row in range(len(g_final)):\n",
    "        flag = 1\n",
    "        for col in range(n):\n",
    "            if(g_final[row][col]!='?' and test_ex[col]!=g_final[row][col]):\n",
    "                flag = 0\n",
    "                break\n",
    "        if(flag==1):\n",
    "            pred = 'Yes'\n",
    "            break\n",
    "    \n",
    "    return pred"
   ]
  },
  {
   "cell_type": "code",
   "execution_count": 63,
   "id": "eb323c8e",
   "metadata": {},
   "outputs": [],
   "source": [
    "def test_full_ex_ce(test_set, g_final):\n",
    "    pred_arr =  []\n",
    "    for i, val in enumerate(test_set):\n",
    "        pred_arr.append(test(val, g_final))\n",
    "    return pred_arr"
   ]
  },
  {
   "cell_type": "code",
   "execution_count": 64,
   "id": "92a48976",
   "metadata": {},
   "outputs": [
    {
     "name": "stdout",
     "output_type": "stream",
     "text": [
      "['No', 'No', 'No', 'No', 'No']\n",
      "\n",
      " Accuracy:  40.0\n",
      "\n",
      " Error Rate:  60.0\n"
     ]
    }
   ],
   "source": [
    "pred_arr = test_full_ex_ce(test_set, g_final)\n",
    "print(pred_arr)\n",
    "calc_acc(pred_arr, test_target)"
   ]
  }
 ],
 "metadata": {
  "kernelspec": {
   "display_name": "Python 3 (ipykernel)",
   "language": "python",
   "name": "python3"
  },
  "language_info": {
   "codemirror_mode": {
    "name": "ipython",
    "version": 3
   },
   "file_extension": ".py",
   "mimetype": "text/x-python",
   "name": "python",
   "nbconvert_exporter": "python",
   "pygments_lexer": "ipython3",
   "version": "3.9.13"
  }
 },
 "nbformat": 4,
 "nbformat_minor": 5
}
