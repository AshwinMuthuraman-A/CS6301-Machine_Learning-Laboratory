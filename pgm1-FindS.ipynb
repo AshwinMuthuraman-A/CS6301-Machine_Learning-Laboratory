{
 "cells": [
  {
   "cell_type": "code",
   "execution_count": 22,
   "id": "8cd7efcf",
   "metadata": {},
   "outputs": [],
   "source": [
    "import pandas as pd\n",
    "import numpy as np"
   ]
  },
  {
   "cell_type": "code",
   "execution_count": 23,
   "id": "af4904fe",
   "metadata": {},
   "outputs": [
    {
     "data": {
      "text/html": [
       "<div>\n",
       "<style scoped>\n",
       "    .dataframe tbody tr th:only-of-type {\n",
       "        vertical-align: middle;\n",
       "    }\n",
       "\n",
       "    .dataframe tbody tr th {\n",
       "        vertical-align: top;\n",
       "    }\n",
       "\n",
       "    .dataframe thead th {\n",
       "        text-align: right;\n",
       "    }\n",
       "</style>\n",
       "<table border=\"1\" class=\"dataframe\">\n",
       "  <thead>\n",
       "    <tr style=\"text-align: right;\">\n",
       "      <th></th>\n",
       "      <th>S.No</th>\n",
       "      <th>Color</th>\n",
       "      <th>Toughness</th>\n",
       "      <th>Fungus</th>\n",
       "      <th>Appearance</th>\n",
       "      <th>Poisonous</th>\n",
       "    </tr>\n",
       "  </thead>\n",
       "  <tbody>\n",
       "    <tr>\n",
       "      <th>0</th>\n",
       "      <td>1</td>\n",
       "      <td>Green</td>\n",
       "      <td>Hard</td>\n",
       "      <td>No</td>\n",
       "      <td>Wrinkled</td>\n",
       "      <td>Yes</td>\n",
       "    </tr>\n",
       "    <tr>\n",
       "      <th>1</th>\n",
       "      <td>2</td>\n",
       "      <td>Green</td>\n",
       "      <td>Hard</td>\n",
       "      <td>Yes</td>\n",
       "      <td>Smooth</td>\n",
       "      <td>No</td>\n",
       "    </tr>\n",
       "    <tr>\n",
       "      <th>2</th>\n",
       "      <td>3</td>\n",
       "      <td>Brown</td>\n",
       "      <td>Soft</td>\n",
       "      <td>No</td>\n",
       "      <td>Wrinkled</td>\n",
       "      <td>No</td>\n",
       "    </tr>\n",
       "    <tr>\n",
       "      <th>3</th>\n",
       "      <td>4</td>\n",
       "      <td>Orange</td>\n",
       "      <td>Hard</td>\n",
       "      <td>No</td>\n",
       "      <td>Wrinkled</td>\n",
       "      <td>Yes</td>\n",
       "    </tr>\n",
       "    <tr>\n",
       "      <th>4</th>\n",
       "      <td>5</td>\n",
       "      <td>Green</td>\n",
       "      <td>Soft</td>\n",
       "      <td>Yes</td>\n",
       "      <td>Smooth</td>\n",
       "      <td>Yes</td>\n",
       "    </tr>\n",
       "    <tr>\n",
       "      <th>5</th>\n",
       "      <td>6</td>\n",
       "      <td>Green</td>\n",
       "      <td>Hard</td>\n",
       "      <td>Yes</td>\n",
       "      <td>Wrinkled</td>\n",
       "      <td>Yes</td>\n",
       "    </tr>\n",
       "    <tr>\n",
       "      <th>6</th>\n",
       "      <td>7</td>\n",
       "      <td>Orange</td>\n",
       "      <td>Hard</td>\n",
       "      <td>No</td>\n",
       "      <td>Wrinkled</td>\n",
       "      <td>Yes</td>\n",
       "    </tr>\n",
       "  </tbody>\n",
       "</table>\n",
       "</div>"
      ],
      "text/plain": [
       "   S.No   Color Toughness Fungus Appearance Poisonous\n",
       "0     1   Green      Hard     No   Wrinkled       Yes\n",
       "1     2   Green      Hard    Yes     Smooth        No\n",
       "2     3   Brown      Soft     No   Wrinkled        No\n",
       "3     4  Orange      Hard     No   Wrinkled       Yes\n",
       "4     5   Green      Soft    Yes     Smooth       Yes\n",
       "5     6   Green      Hard    Yes   Wrinkled       Yes\n",
       "6     7  Orange      Hard     No   Wrinkled       Yes"
      ]
     },
     "execution_count": 23,
     "metadata": {},
     "output_type": "execute_result"
    }
   ],
   "source": [
    "data = pd.read_csv(\"data1.csv\")\n",
    "data"
   ]
  },
  {
   "cell_type": "code",
   "execution_count": 24,
   "id": "a86aa960",
   "metadata": {},
   "outputs": [
    {
     "name": "stdout",
     "output_type": "stream",
     "text": [
      "n The attributes are:  [[1 'Green' 'Hard' 'No' 'Wrinkled']\n",
      " [2 'Green' 'Hard' 'Yes' 'Smooth']\n",
      " [3 'Brown' 'Soft' 'No' 'Wrinkled']\n",
      " [4 'Orange' 'Hard' 'No' 'Wrinkled']\n",
      " [5 'Green' 'Soft' 'Yes' 'Smooth']\n",
      " [6 'Green' 'Hard' 'Yes' 'Wrinkled']\n",
      " [7 'Orange' 'Hard' 'No' 'Wrinkled']]\n"
     ]
    }
   ],
   "source": [
    "d = np.array(data)[:,:-1]\n",
    "print(\"n The attributes are: \\n\",d)"
   ]
  },
  {
   "cell_type": "code",
   "execution_count": 25,
   "id": "65efbf9f",
   "metadata": {},
   "outputs": [
    {
     "name": "stdout",
     "output_type": "stream",
     "text": [
      "n The target is:  ['Yes' 'No' 'No' 'Yes' 'Yes' 'Yes' 'Yes']\n"
     ]
    }
   ],
   "source": [
    "target = np.array(data)[:,-1]\n",
    "print(\"n The target is: \",target)"
   ]
  },
  {
   "cell_type": "code",
   "execution_count": 26,
   "id": "39806239",
   "metadata": {},
   "outputs": [],
   "source": [
    "def train(c,t):\n",
    "    for i, val in enumerate(t):\n",
    "        if val == \"Yes\":\n",
    "            specific_hypothesis = c[i].copy()\n",
    "            break\n",
    "    print(\"\\n Initial specific hypothesis is: \", specific_hypothesis)\n",
    "            \n",
    "    for i, val in enumerate(c):\n",
    "        if t[i] == \"Yes\":\n",
    "            for x in range(len(specific_hypothesis)):\n",
    "                if val[x] != specific_hypothesis[x]:\n",
    "                    specific_hypothesis[x] = '?'\n",
    "                else:\n",
    "                    pass\n",
    "        print(\"\\n Specific Hypothesis after example \", i+1, \" is: \", specific_hypothesis)\n",
    "    return specific_hypothesis  "
   ]
  },
  {
   "cell_type": "code",
   "execution_count": 27,
   "id": "f69453c8",
   "metadata": {},
   "outputs": [
    {
     "name": "stdout",
     "output_type": "stream",
     "text": [
      "\n",
      " Initial specific hypothesis is:  [1 'Green' 'Hard' 'No' 'Wrinkled']\n",
      "\n",
      " Specific Hypothesis after example  1  is:  [1 'Green' 'Hard' 'No' 'Wrinkled']\n",
      "\n",
      " Specific Hypothesis after example  2  is:  [1 'Green' 'Hard' 'No' 'Wrinkled']\n",
      "\n",
      " Specific Hypothesis after example  3  is:  [1 'Green' 'Hard' 'No' 'Wrinkled']\n",
      "\n",
      " Specific Hypothesis after example  4  is:  ['?' '?' 'Hard' 'No' 'Wrinkled']\n",
      "\n",
      " Specific Hypothesis after example  5  is:  ['?' '?' '?' '?' '?']\n",
      "\n",
      " Specific Hypothesis after example  6  is:  ['?' '?' '?' '?' '?']\n",
      "\n",
      " Specific Hypothesis after example  7  is:  ['?' '?' '?' '?' '?']\n",
      "\n",
      " The final specific hypothesis is: ['?' '?' '?' '?' '?']\n"
     ]
    }
   ],
   "source": [
    "print(\"\\n The final specific hypothesis is:\",train(d,target))"
   ]
  }
 ],
 "metadata": {
  "kernelspec": {
   "display_name": "Python 3 (ipykernel)",
   "language": "python",
   "name": "python3"
  },
  "language_info": {
   "codemirror_mode": {
    "name": "ipython",
    "version": 3
   },
   "file_extension": ".py",
   "mimetype": "text/x-python",
   "name": "python",
   "nbconvert_exporter": "python",
   "pygments_lexer": "ipython3",
   "version": "3.9.13"
  }
 },
 "nbformat": 4,
 "nbformat_minor": 5
}
