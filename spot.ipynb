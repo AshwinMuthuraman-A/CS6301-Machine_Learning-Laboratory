{
 "cells": [
  {
   "cell_type": "code",
   "execution_count": 27,
   "id": "4b018cdc",
   "metadata": {},
   "outputs": [],
   "source": [
    "import numpy as np\n",
    "import pandas as pd"
   ]
  },
  {
   "cell_type": "code",
   "execution_count": 28,
   "id": "fbd4e4ea",
   "metadata": {},
   "outputs": [
    {
     "data": {
      "text/html": [
       "<div>\n",
       "<style scoped>\n",
       "    .dataframe tbody tr th:only-of-type {\n",
       "        vertical-align: middle;\n",
       "    }\n",
       "\n",
       "    .dataframe tbody tr th {\n",
       "        vertical-align: top;\n",
       "    }\n",
       "\n",
       "    .dataframe thead th {\n",
       "        text-align: right;\n",
       "    }\n",
       "</style>\n",
       "<table border=\"1\" class=\"dataframe\">\n",
       "  <thead>\n",
       "    <tr style=\"text-align: right;\">\n",
       "      <th></th>\n",
       "      <th>Color</th>\n",
       "      <th>Shape</th>\n",
       "      <th>Height</th>\n",
       "      <th>Numberofsignals</th>\n",
       "      <th>TrafficLight</th>\n",
       "    </tr>\n",
       "  </thead>\n",
       "  <tbody>\n",
       "    <tr>\n",
       "      <th>0</th>\n",
       "      <td>Green</td>\n",
       "      <td>Circle</td>\n",
       "      <td>150</td>\n",
       "      <td>3</td>\n",
       "      <td>Yes</td>\n",
       "    </tr>\n",
       "    <tr>\n",
       "      <th>1</th>\n",
       "      <td>Green</td>\n",
       "      <td>Square</td>\n",
       "      <td>120</td>\n",
       "      <td>2</td>\n",
       "      <td>No</td>\n",
       "    </tr>\n",
       "    <tr>\n",
       "      <th>2</th>\n",
       "      <td>Yellow</td>\n",
       "      <td>Rectangle</td>\n",
       "      <td>0</td>\n",
       "      <td>3</td>\n",
       "      <td>No</td>\n",
       "    </tr>\n",
       "    <tr>\n",
       "      <th>3</th>\n",
       "      <td>Red</td>\n",
       "      <td>Circle</td>\n",
       "      <td>150</td>\n",
       "      <td>3</td>\n",
       "      <td>Yes</td>\n",
       "    </tr>\n",
       "    <tr>\n",
       "      <th>4</th>\n",
       "      <td>Green</td>\n",
       "      <td>Circle</td>\n",
       "      <td>150</td>\n",
       "      <td>3</td>\n",
       "      <td>Yes</td>\n",
       "    </tr>\n",
       "    <tr>\n",
       "      <th>5</th>\n",
       "      <td>Yellow</td>\n",
       "      <td>Rectangle</td>\n",
       "      <td>120</td>\n",
       "      <td>3</td>\n",
       "      <td>No</td>\n",
       "    </tr>\n",
       "    <tr>\n",
       "      <th>6</th>\n",
       "      <td>Red</td>\n",
       "      <td>Circle</td>\n",
       "      <td>150</td>\n",
       "      <td>3</td>\n",
       "      <td>Yes</td>\n",
       "    </tr>\n",
       "    <tr>\n",
       "      <th>7</th>\n",
       "      <td>Green</td>\n",
       "      <td>Circle</td>\n",
       "      <td>150</td>\n",
       "      <td>3</td>\n",
       "      <td>Yes</td>\n",
       "    </tr>\n",
       "  </tbody>\n",
       "</table>\n",
       "</div>"
      ],
      "text/plain": [
       "    Color      Shape  Height  Numberofsignals TrafficLight\n",
       "0   Green     Circle     150                3          Yes\n",
       "1   Green     Square     120                2           No\n",
       "2  Yellow  Rectangle       0                3           No\n",
       "3     Red     Circle     150                3          Yes\n",
       "4   Green     Circle     150                3          Yes\n",
       "5  Yellow  Rectangle     120                3           No\n",
       "6     Red     Circle     150                3          Yes\n",
       "7   Green     Circle     150                3          Yes"
      ]
     },
     "execution_count": 28,
     "metadata": {},
     "output_type": "execute_result"
    }
   ],
   "source": [
    "data = pd.read_csv('data4.csv')\n",
    "data"
   ]
  },
  {
   "cell_type": "code",
   "execution_count": 29,
   "id": "8bd59864",
   "metadata": {},
   "outputs": [
    {
     "name": "stdout",
     "output_type": "stream",
     "text": [
      "Instances are: \n",
      " [['Green' 'Circle' 150 3]\n",
      " ['Green' 'Square' 120 2]\n",
      " ['Yellow' 'Rectangle' 0 3]\n",
      " ['Red' 'Circle' 150 3]\n",
      " ['Green' 'Circle' 150 3]\n",
      " ['Yellow' 'Rectangle' 120 3]\n",
      " ['Red' 'Circle' 150 3]\n",
      " ['Green' 'Circle' 150 3]]\n"
     ]
    }
   ],
   "source": [
    "concepts = np.array(data.iloc[:,0:-1])\n",
    "print(\"Instances are: \\n\",concepts)"
   ]
  },
  {
   "cell_type": "code",
   "execution_count": 30,
   "id": "e08f5572",
   "metadata": {},
   "outputs": [
    {
     "name": "stdout",
     "output_type": "stream",
     "text": [
      "Target Values are:  ['Yes' 'No' 'No' 'Yes' 'Yes' 'No' 'Yes' 'Yes']\n"
     ]
    }
   ],
   "source": [
    "target = np.array(data.iloc[:,-1])\n",
    "print(\"Target Values are: \",target)"
   ]
  },
  {
   "cell_type": "code",
   "execution_count": 31,
   "id": "2f722ee4",
   "metadata": {},
   "outputs": [],
   "source": [
    "def learn(concepts, target): \n",
    "    for i, val in enumerate(target):\n",
    "        if val == \"Yes\":\n",
    "            specific_h = concepts[i].copy()\n",
    "            break\n",
    "            \n",
    "    print(\"\\n *****Initialization of specific_h and genearal_h*****\")\n",
    "    print(\"\\n Specific Boundary: \", specific_h)\n",
    "    general_h = [[\"?\" for i in range(len(specific_h))] for i in range(len(target))]\n",
    "    print(\"\\n Generic Boundary: \",general_h)\n",
    "    \n",
    "    for i, h in enumerate(concepts):\n",
    "        if target[i] == \"Yes\":\n",
    "            print(\"\\n Instance is Positive\")\n",
    "            for x in range(len(specific_h)):\n",
    "                if h[x]!= specific_h[x]:\n",
    "                    specific_h[x] ='?'\n",
    "                    general_h[x][x] ='?'\n",
    "                    \n",
    "        if target[i] == \"No\":\n",
    "            print(\"\\n Instance is Negative\")\n",
    "            for x in range(len(specific_h)):\n",
    "                if h[x]!= specific_h[x]:\n",
    "                    general_h[x][x] = specific_h[x]\n",
    "                else:\n",
    "                    general_h[x][x] = '?'\n",
    "                    \n",
    "        print(\"Specific Bundary after \", i+1, \"Instance is \", specific_h)\n",
    "        print(\"Generic Boundary after \", i+1, \"Instance is \", general_h)\n",
    "        print(\"\\n\")\n",
    "        \n",
    "    remove_h = [\"?\" for i in range(len(specific_h))]\n",
    "    indices = [i for i, val in enumerate(general_h) if val == remove_h]\n",
    "    for i in indices:\n",
    "        general_h.remove(remove_h)\n",
    "        \n",
    "    return specific_h, general_h"
   ]
  },
  {
   "cell_type": "code",
   "execution_count": 32,
   "id": "4153aca8",
   "metadata": {},
   "outputs": [
    {
     "name": "stdout",
     "output_type": "stream",
     "text": [
      "\n",
      " *****Initialization of specific_h and genearal_h*****\n",
      "\n",
      " Specific Boundary:  ['Green' 'Circle' 150 3]\n",
      "\n",
      " Generic Boundary:  [['?', '?', '?', '?'], ['?', '?', '?', '?'], ['?', '?', '?', '?'], ['?', '?', '?', '?'], ['?', '?', '?', '?'], ['?', '?', '?', '?'], ['?', '?', '?', '?'], ['?', '?', '?', '?']]\n",
      "\n",
      " Instance is Positive\n",
      "Specific Bundary after  1 Instance is  ['Green' 'Circle' 150 3]\n",
      "Generic Boundary after  1 Instance is  [['?', '?', '?', '?'], ['?', '?', '?', '?'], ['?', '?', '?', '?'], ['?', '?', '?', '?'], ['?', '?', '?', '?'], ['?', '?', '?', '?'], ['?', '?', '?', '?'], ['?', '?', '?', '?']]\n",
      "\n",
      "\n",
      "\n",
      " Instance is Negative\n",
      "Specific Bundary after  2 Instance is  ['Green' 'Circle' 150 3]\n",
      "Generic Boundary after  2 Instance is  [['?', '?', '?', '?'], ['?', 'Circle', '?', '?'], ['?', '?', 150, '?'], ['?', '?', '?', 3], ['?', '?', '?', '?'], ['?', '?', '?', '?'], ['?', '?', '?', '?'], ['?', '?', '?', '?']]\n",
      "\n",
      "\n",
      "\n",
      " Instance is Negative\n",
      "Specific Bundary after  3 Instance is  ['Green' 'Circle' 150 3]\n",
      "Generic Boundary after  3 Instance is  [['Green', '?', '?', '?'], ['?', 'Circle', '?', '?'], ['?', '?', 150, '?'], ['?', '?', '?', '?'], ['?', '?', '?', '?'], ['?', '?', '?', '?'], ['?', '?', '?', '?'], ['?', '?', '?', '?']]\n",
      "\n",
      "\n",
      "\n",
      " Instance is Positive\n",
      "Specific Bundary after  4 Instance is  ['?' 'Circle' 150 3]\n",
      "Generic Boundary after  4 Instance is  [['?', '?', '?', '?'], ['?', 'Circle', '?', '?'], ['?', '?', 150, '?'], ['?', '?', '?', '?'], ['?', '?', '?', '?'], ['?', '?', '?', '?'], ['?', '?', '?', '?'], ['?', '?', '?', '?']]\n",
      "\n",
      "\n",
      "\n",
      " Instance is Positive\n",
      "Specific Bundary after  5 Instance is  ['?' 'Circle' 150 3]\n",
      "Generic Boundary after  5 Instance is  [['?', '?', '?', '?'], ['?', 'Circle', '?', '?'], ['?', '?', 150, '?'], ['?', '?', '?', '?'], ['?', '?', '?', '?'], ['?', '?', '?', '?'], ['?', '?', '?', '?'], ['?', '?', '?', '?']]\n",
      "\n",
      "\n",
      "\n",
      " Instance is Negative\n",
      "Specific Bundary after  6 Instance is  ['?' 'Circle' 150 3]\n",
      "Generic Boundary after  6 Instance is  [['?', '?', '?', '?'], ['?', 'Circle', '?', '?'], ['?', '?', 150, '?'], ['?', '?', '?', '?'], ['?', '?', '?', '?'], ['?', '?', '?', '?'], ['?', '?', '?', '?'], ['?', '?', '?', '?']]\n",
      "\n",
      "\n",
      "\n",
      " Instance is Positive\n",
      "Specific Bundary after  7 Instance is  ['?' 'Circle' 150 3]\n",
      "Generic Boundary after  7 Instance is  [['?', '?', '?', '?'], ['?', 'Circle', '?', '?'], ['?', '?', 150, '?'], ['?', '?', '?', '?'], ['?', '?', '?', '?'], ['?', '?', '?', '?'], ['?', '?', '?', '?'], ['?', '?', '?', '?']]\n",
      "\n",
      "\n",
      "\n",
      " Instance is Positive\n",
      "Specific Bundary after  8 Instance is  ['?' 'Circle' 150 3]\n",
      "Generic Boundary after  8 Instance is  [['?', '?', '?', '?'], ['?', 'Circle', '?', '?'], ['?', '?', 150, '?'], ['?', '?', '?', '?'], ['?', '?', '?', '?'], ['?', '?', '?', '?'], ['?', '?', '?', '?'], ['?', '?', '?', '?']]\n",
      "\n",
      "\n"
     ]
    }
   ],
   "source": [
    "s_final, g_final = learn(concepts, target)"
   ]
  },
  {
   "cell_type": "code",
   "execution_count": 33,
   "id": "aa7d4f50",
   "metadata": {},
   "outputs": [
    {
     "name": "stdout",
     "output_type": "stream",
     "text": [
      "Final Specific_h: \n",
      "['?' 'Circle' 150 3]\n",
      "Final General_h: \n",
      "[['?', 'Circle', '?', '?'], ['?', '?', 150, '?']]\n"
     ]
    }
   ],
   "source": [
    "print(\"Final Specific_h: \", s_final, sep=\"\\n\")\n",
    "print(\"Final General_h: \", g_final, sep=\"\\n\")"
   ]
  },
  {
   "cell_type": "code",
   "execution_count": 34,
   "id": "70d9db0b",
   "metadata": {},
   "outputs": [],
   "source": [
    "def test(test_ex, g_final):\n",
    "    pred = 'No'\n",
    "    n = len(test_ex)\n",
    "    for row in range(len(g_final)):\n",
    "        flag = 1\n",
    "        for col in range(n):\n",
    "            if(g_final[row][col]!='?' and test_ex[col]!=g_final[row][col]):\n",
    "                flag = 0\n",
    "                break\n",
    "        if(flag==1):\n",
    "            pred = 'Yes'\n",
    "            break\n",
    "    \n",
    "    return pred"
   ]
  },
  {
   "cell_type": "code",
   "execution_count": 35,
   "id": "ba170531",
   "metadata": {},
   "outputs": [],
   "source": [
    "def test_full_ex_ce(test_set, g_final):\n",
    "    pred_arr =  []\n",
    "    for i, val in enumerate(test_set):\n",
    "        pred_arr.append(test(val, g_final))\n",
    "    return pred_arr"
   ]
  },
  {
   "cell_type": "code",
   "execution_count": 36,
   "id": "73f1d990",
   "metadata": {},
   "outputs": [],
   "source": [
    "def calc_acc(pred_arr, target):\n",
    "    n = len(target)\n",
    "    count_correct = 0\n",
    "    for i in range(n):\n",
    "        if(target[i] == pred_arr[i]):\n",
    "            count_correct = count_correct + 1\n",
    "    print(\"\\n Accuracy: \", (count_correct/n)*100)\n",
    "    print(\"\\n Error Rate: \", (100-(count_correct/n)*100))"
   ]
  },
  {
   "cell_type": "code",
   "execution_count": 37,
   "id": "9f7fb33c",
   "metadata": {},
   "outputs": [
    {
     "data": {
      "text/html": [
       "<div>\n",
       "<style scoped>\n",
       "    .dataframe tbody tr th:only-of-type {\n",
       "        vertical-align: middle;\n",
       "    }\n",
       "\n",
       "    .dataframe tbody tr th {\n",
       "        vertical-align: top;\n",
       "    }\n",
       "\n",
       "    .dataframe thead th {\n",
       "        text-align: right;\n",
       "    }\n",
       "</style>\n",
       "<table border=\"1\" class=\"dataframe\">\n",
       "  <thead>\n",
       "    <tr style=\"text-align: right;\">\n",
       "      <th></th>\n",
       "      <th>Color</th>\n",
       "      <th>Shape</th>\n",
       "      <th>Height</th>\n",
       "      <th>Numberofsignals</th>\n",
       "      <th>TrafficLight</th>\n",
       "    </tr>\n",
       "  </thead>\n",
       "  <tbody>\n",
       "    <tr>\n",
       "      <th>0</th>\n",
       "      <td>Green</td>\n",
       "      <td>Circle</td>\n",
       "      <td>150</td>\n",
       "      <td>3</td>\n",
       "      <td>Yes</td>\n",
       "    </tr>\n",
       "    <tr>\n",
       "      <th>1</th>\n",
       "      <td>Green</td>\n",
       "      <td>Square</td>\n",
       "      <td>120</td>\n",
       "      <td>2</td>\n",
       "      <td>No</td>\n",
       "    </tr>\n",
       "    <tr>\n",
       "      <th>2</th>\n",
       "      <td>Yellow</td>\n",
       "      <td>Circle</td>\n",
       "      <td>0</td>\n",
       "      <td>3</td>\n",
       "      <td>No</td>\n",
       "    </tr>\n",
       "    <tr>\n",
       "      <th>3</th>\n",
       "      <td>Red</td>\n",
       "      <td>Circle</td>\n",
       "      <td>200</td>\n",
       "      <td>3</td>\n",
       "      <td>Yes</td>\n",
       "    </tr>\n",
       "    <tr>\n",
       "      <th>4</th>\n",
       "      <td>Green</td>\n",
       "      <td>Circle</td>\n",
       "      <td>123</td>\n",
       "      <td>3</td>\n",
       "      <td>Yes</td>\n",
       "    </tr>\n",
       "    <tr>\n",
       "      <th>5</th>\n",
       "      <td>Yellow</td>\n",
       "      <td>Rectangle</td>\n",
       "      <td>150</td>\n",
       "      <td>3</td>\n",
       "      <td>No</td>\n",
       "    </tr>\n",
       "    <tr>\n",
       "      <th>6</th>\n",
       "      <td>Red</td>\n",
       "      <td>Square</td>\n",
       "      <td>150</td>\n",
       "      <td>3</td>\n",
       "      <td>Yes</td>\n",
       "    </tr>\n",
       "    <tr>\n",
       "      <th>7</th>\n",
       "      <td>Green</td>\n",
       "      <td>Circle</td>\n",
       "      <td>120</td>\n",
       "      <td>3</td>\n",
       "      <td>Yes</td>\n",
       "    </tr>\n",
       "  </tbody>\n",
       "</table>\n",
       "</div>"
      ],
      "text/plain": [
       "    Color      Shape  Height  Numberofsignals TrafficLight\n",
       "0   Green     Circle     150                3          Yes\n",
       "1   Green     Square     120                2           No\n",
       "2  Yellow     Circle       0                3           No\n",
       "3     Red     Circle     200                3          Yes\n",
       "4   Green     Circle     123                3          Yes\n",
       "5  Yellow  Rectangle     150                3           No\n",
       "6     Red     Square     150                3          Yes\n",
       "7   Green     Circle     120                3          Yes"
      ]
     },
     "execution_count": 37,
     "metadata": {},
     "output_type": "execute_result"
    }
   ],
   "source": [
    "target_data = pd.read_csv(\"data5.csv\")\n",
    "target_data"
   ]
  },
  {
   "cell_type": "code",
   "execution_count": 38,
   "id": "fe0ba1b3",
   "metadata": {},
   "outputs": [
    {
     "name": "stdout",
     "output_type": "stream",
     "text": [
      "The attributes are: \n",
      " [['Green' 'Circle' 150 3]\n",
      " ['Green' 'Square' 120 2]\n",
      " ['Yellow' 'Circle' 0 3]\n",
      " ['Red' 'Circle' 200 3]\n",
      " ['Green' 'Circle' 123 3]\n",
      " ['Yellow' 'Rectangle' 150 3]\n",
      " ['Red' 'Square' 150 3]\n",
      " ['Green' 'Circle' 120 3]]\n"
     ]
    }
   ],
   "source": [
    "test_set = np.array(target_data)[:,:-1]\n",
    "print(\"The attributes are: \\n\", test_set)"
   ]
  },
  {
   "cell_type": "code",
   "execution_count": 39,
   "id": "4ae2d081",
   "metadata": {},
   "outputs": [
    {
     "name": "stdout",
     "output_type": "stream",
     "text": [
      "n The target is:  ['Yes' 'No' 'No' 'Yes' 'Yes' 'No' 'Yes' 'Yes']\n"
     ]
    }
   ],
   "source": [
    "test_target = np.array(target_data)[:,-1]\n",
    "print(\"n The target is: \", test_target)"
   ]
  },
  {
   "cell_type": "code",
   "execution_count": 40,
   "id": "412610af",
   "metadata": {},
   "outputs": [
    {
     "name": "stdout",
     "output_type": "stream",
     "text": [
      "['Yes', 'No', 'Yes', 'Yes', 'Yes', 'Yes', 'Yes', 'Yes']\n",
      "\n",
      " Accuracy:  75.0\n",
      "\n",
      " Error Rate:  25.0\n"
     ]
    }
   ],
   "source": [
    "pred_arr = test_full_ex_ce(test_set, g_final)\n",
    "print(pred_arr)\n",
    "calc_acc(pred_arr, test_target)"
   ]
  }
 ],
 "metadata": {
  "kernelspec": {
   "display_name": "Python 3 (ipykernel)",
   "language": "python",
   "name": "python3"
  },
  "language_info": {
   "codemirror_mode": {
    "name": "ipython",
    "version": 3
   },
   "file_extension": ".py",
   "mimetype": "text/x-python",
   "name": "python",
   "nbconvert_exporter": "python",
   "pygments_lexer": "ipython3",
   "version": "3.9.13"
  }
 },
 "nbformat": 4,
 "nbformat_minor": 5
}
